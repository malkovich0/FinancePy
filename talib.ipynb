{
 "cells": [
  {
   "cell_type": "code",
   "execution_count": 2,
   "id": "opposite-platform",
   "metadata": {
    "ExecuteTime": {
     "end_time": "2021-10-12T07:21:46.999136Z",
     "start_time": "2021-10-12T07:21:46.273379Z"
    }
   },
   "outputs": [],
   "source": [
    "import talib.abstract as ta\n",
    "import FinanceDataReader as fdr"
   ]
  },
  {
   "cell_type": "code",
   "execution_count": 7,
   "id": "vanilla-bulgarian",
   "metadata": {
    "ExecuteTime": {
     "end_time": "2021-10-12T07:35:08.394166Z",
     "start_time": "2021-10-12T07:35:08.115484Z"
    }
   },
   "outputs": [
    {
     "data": {
      "text/html": [
       "<div>\n",
       "<style scoped>\n",
       "    .dataframe tbody tr th:only-of-type {\n",
       "        vertical-align: middle;\n",
       "    }\n",
       "\n",
       "    .dataframe tbody tr th {\n",
       "        vertical-align: top;\n",
       "    }\n",
       "\n",
       "    .dataframe thead th {\n",
       "        text-align: right;\n",
       "    }\n",
       "</style>\n",
       "<table border=\"1\" class=\"dataframe\">\n",
       "  <thead>\n",
       "    <tr style=\"text-align: right;\">\n",
       "      <th></th>\n",
       "      <th>open</th>\n",
       "      <th>high</th>\n",
       "      <th>low</th>\n",
       "      <th>close</th>\n",
       "      <th>volume</th>\n",
       "      <th>change</th>\n",
       "    </tr>\n",
       "    <tr>\n",
       "      <th>Date</th>\n",
       "      <th></th>\n",
       "      <th></th>\n",
       "      <th></th>\n",
       "      <th></th>\n",
       "      <th></th>\n",
       "      <th></th>\n",
       "    </tr>\n",
       "  </thead>\n",
       "  <tbody>\n",
       "    <tr>\n",
       "      <th>2010-01-04</th>\n",
       "      <td>16060</td>\n",
       "      <td>16180</td>\n",
       "      <td>16000</td>\n",
       "      <td>16180</td>\n",
       "      <td>239271</td>\n",
       "      <td>0.012516</td>\n",
       "    </tr>\n",
       "    <tr>\n",
       "      <th>2010-01-05</th>\n",
       "      <td>16520</td>\n",
       "      <td>16580</td>\n",
       "      <td>16300</td>\n",
       "      <td>16440</td>\n",
       "      <td>559219</td>\n",
       "      <td>0.016069</td>\n",
       "    </tr>\n",
       "    <tr>\n",
       "      <th>2010-01-06</th>\n",
       "      <td>16580</td>\n",
       "      <td>16820</td>\n",
       "      <td>16520</td>\n",
       "      <td>16820</td>\n",
       "      <td>459755</td>\n",
       "      <td>0.023114</td>\n",
       "    </tr>\n",
       "    <tr>\n",
       "      <th>2010-01-07</th>\n",
       "      <td>16820</td>\n",
       "      <td>16820</td>\n",
       "      <td>16260</td>\n",
       "      <td>16260</td>\n",
       "      <td>443237</td>\n",
       "      <td>-0.033294</td>\n",
       "    </tr>\n",
       "    <tr>\n",
       "      <th>2010-01-08</th>\n",
       "      <td>16400</td>\n",
       "      <td>16420</td>\n",
       "      <td>16120</td>\n",
       "      <td>16420</td>\n",
       "      <td>295798</td>\n",
       "      <td>0.009840</td>\n",
       "    </tr>\n",
       "    <tr>\n",
       "      <th>...</th>\n",
       "      <td>...</td>\n",
       "      <td>...</td>\n",
       "      <td>...</td>\n",
       "      <td>...</td>\n",
       "      <td>...</td>\n",
       "      <td>...</td>\n",
       "    </tr>\n",
       "    <tr>\n",
       "      <th>2010-12-24</th>\n",
       "      <td>18780</td>\n",
       "      <td>18780</td>\n",
       "      <td>18500</td>\n",
       "      <td>18500</td>\n",
       "      <td>169733</td>\n",
       "      <td>-0.011752</td>\n",
       "    </tr>\n",
       "    <tr>\n",
       "      <th>2010-12-27</th>\n",
       "      <td>18500</td>\n",
       "      <td>18600</td>\n",
       "      <td>18300</td>\n",
       "      <td>18440</td>\n",
       "      <td>210673</td>\n",
       "      <td>-0.003243</td>\n",
       "    </tr>\n",
       "    <tr>\n",
       "      <th>2010-12-28</th>\n",
       "      <td>18560</td>\n",
       "      <td>19000</td>\n",
       "      <td>18520</td>\n",
       "      <td>18760</td>\n",
       "      <td>313323</td>\n",
       "      <td>0.017354</td>\n",
       "    </tr>\n",
       "    <tr>\n",
       "      <th>2010-12-29</th>\n",
       "      <td>18700</td>\n",
       "      <td>19020</td>\n",
       "      <td>18640</td>\n",
       "      <td>18900</td>\n",
       "      <td>238527</td>\n",
       "      <td>0.007463</td>\n",
       "    </tr>\n",
       "    <tr>\n",
       "      <th>2010-12-30</th>\n",
       "      <td>18840</td>\n",
       "      <td>19040</td>\n",
       "      <td>18840</td>\n",
       "      <td>18980</td>\n",
       "      <td>183831</td>\n",
       "      <td>0.004233</td>\n",
       "    </tr>\n",
       "  </tbody>\n",
       "</table>\n",
       "<p>251 rows × 6 columns</p>\n",
       "</div>"
      ],
      "text/plain": [
       "             open   high    low  close  volume    change\n",
       "Date                                                    \n",
       "2010-01-04  16060  16180  16000  16180  239271  0.012516\n",
       "2010-01-05  16520  16580  16300  16440  559219  0.016069\n",
       "2010-01-06  16580  16820  16520  16820  459755  0.023114\n",
       "2010-01-07  16820  16820  16260  16260  443237 -0.033294\n",
       "2010-01-08  16400  16420  16120  16420  295798  0.009840\n",
       "...           ...    ...    ...    ...     ...       ...\n",
       "2010-12-24  18780  18780  18500  18500  169733 -0.011752\n",
       "2010-12-27  18500  18600  18300  18440  210673 -0.003243\n",
       "2010-12-28  18560  19000  18520  18760  313323  0.017354\n",
       "2010-12-29  18700  19020  18640  18900  238527  0.007463\n",
       "2010-12-30  18840  19040  18840  18980  183831  0.004233\n",
       "\n",
       "[251 rows x 6 columns]"
      ]
     },
     "execution_count": 7,
     "metadata": {},
     "output_type": "execute_result"
    }
   ],
   "source": [
    "df = fdr.DataReader(\"005930\",\"2010-01-01\",\"2011-01-01\")\n",
    "df.rename(columns=lambda col:col.lower(),inplace=True)\n",
    "df"
   ]
  },
  {
   "cell_type": "code",
   "execution_count": 18,
   "id": "disciplinary-sharing",
   "metadata": {
    "ExecuteTime": {
     "end_time": "2021-10-12T07:37:01.609024Z",
     "start_time": "2021-10-12T07:37:01.595929Z"
    }
   },
   "outputs": [
    {
     "data": {
      "text/plain": [
       "array([   nan,    nan,    nan,    nan, 16424., 16376., 16324., 16148.,\n",
       "       16204., 16288., 16472., 16528., 16676., 16768., 16700., 16696.,\n",
       "       16664., 16528., 16360., 16196., 15936., 15764., 15672., 15544.,\n",
       "       15408., 15292., 15248., 15160., 15108., 15108., 15140., 15212.,\n",
       "       15292., 15280., 15372., 15416., 15308., 15152., 15088., 15076.,\n",
       "       15092., 15128., 15284., 15452., 15516., 15568., 15636., 15648.,\n",
       "       15576., 15492., 15548., 15624., 15728., 15860., 16036., 16120.,\n",
       "       16208., 16272., 16340., 16360., 16356., 16460., 16608., 16816.,\n",
       "       17036., 17200., 17272., 17268., 17108., 16944., 16888., 16856.,\n",
       "       16824., 16812., 16812., 16840., 16784., 16712., 16740., 16768.,\n",
       "       16660., 16596., 16672., 16652., 16648., 16604., 16480., 16296.,\n",
       "       16144., 15964., 15960., 16024., 15948., 15952., 15888., 15660.,\n",
       "       15452., 15280., 15112., 15108., 15196., 15268., 15376., 15484.,\n",
       "       15568., 15604., 15640., 15648., 15632., 15648., 15728., 15780.,\n",
       "       15976., 16152., 16252., 16344., 16416., 16360., 16372., 16304.,\n",
       "       16168., 16072., 15948., 15732., 15580., 15464., 15396., 15376.,\n",
       "       15412., 15528., 15668., 15752., 15972., 16152., 16176., 16148.,\n",
       "       16156., 16128., 16080., 16116., 16208., 16332., 16412., 16488.,\n",
       "       16484., 16452., 16396., 16272., 16180., 16144., 16112., 16024.,\n",
       "       15916., 15764., 15684., 15604., 15560., 15556., 15648., 15660.,\n",
       "       15692., 15696., 15672., 15608., 15536., 15480., 15372., 15292.,\n",
       "       15236., 15216., 15232., 15360., 15436., 15424., 15444., 15404.,\n",
       "       15292., 15236., 15240., 15268., 15308., 15316., 15308., 15260.,\n",
       "       15256., 15244., 15304., 15404., 15516., 15600., 15572., 15496.,\n",
       "       15388., 15280., 15084., 15004., 14988., 14980., 14960., 14964.,\n",
       "       15024., 15116., 15196., 15284., 15316., 15312., 15184., 15088.,\n",
       "       14996., 14944., 14940., 15064., 15188., 15324., 15524., 15540.,\n",
       "       15548., 15668., 15816., 15836., 15964., 16124., 16284., 16400.,\n",
       "       16624., 16808., 16884., 16836., 16780., 16656., 16712., 16940.,\n",
       "       17156., 17456., 17728., 17960., 18060., 18220., 18332., 18444.,\n",
       "       18420., 18448., 18456., 18484., 18576., 18676., 18672., 18632.,\n",
       "       18640., 18664., 18716.])"
      ]
     },
     "execution_count": 18,
     "metadata": {},
     "output_type": "execute_result"
    }
   ],
   "source": [
    "talib_ma5"
   ]
  },
  {
   "cell_type": "code",
   "execution_count": 23,
   "id": "existing-accident",
   "metadata": {
    "ExecuteTime": {
     "end_time": "2021-10-12T07:38:56.019752Z",
     "start_time": "2021-10-12T07:38:56.007527Z"
    }
   },
   "outputs": [
    {
     "data": {
      "text/plain": [
       "Date\n",
       "2010-01-04             NaN\n",
       "2010-01-05             NaN\n",
       "2010-01-06             NaN\n",
       "2010-01-07             NaN\n",
       "2010-01-08    16424.000000\n",
       "                  ...     \n",
       "2010-12-24    18604.470828\n",
       "2010-12-27    18549.647219\n",
       "2010-12-28    18619.764812\n",
       "2010-12-29    18713.176542\n",
       "2010-12-30    18802.117694\n",
       "Length: 251, dtype: float64"
      ]
     },
     "execution_count": 23,
     "metadata": {},
     "output_type": "execute_result"
    }
   ],
   "source": [
    "# ta-lib로 5기간 종가 이동평균 계산\n",
    "talib_ma5 = ta.MA(df, timeperiod=5,matype=1)\n",
    "talib_ma5\n",
    "# pandas 기능을 이용하여 5기간 이동평균 계산\n",
    "# pandas_ma5 = df.close.rolling(window=5).mean() \n",
    "\n",
    "# talib_ma5.equals(pandas_ma5)"
   ]
  },
  {
   "cell_type": "code",
   "execution_count": null,
   "id": "armed-avenue",
   "metadata": {},
   "outputs": [],
   "source": [
    "ta."
   ]
  }
 ],
 "metadata": {
  "kernelspec": {
   "display_name": "py38_64",
   "language": "python",
   "name": "py38_64"
  },
  "language_info": {
   "codemirror_mode": {
    "name": "ipython",
    "version": 3
   },
   "file_extension": ".py",
   "mimetype": "text/x-python",
   "name": "python",
   "nbconvert_exporter": "python",
   "pygments_lexer": "ipython3",
   "version": "3.8.8"
  },
  "toc": {
   "base_numbering": 1,
   "nav_menu": {},
   "number_sections": true,
   "sideBar": true,
   "skip_h1_title": false,
   "title_cell": "Table of Contents",
   "title_sidebar": "Contents",
   "toc_cell": false,
   "toc_position": {},
   "toc_section_display": true,
   "toc_window_display": false
  },
  "varInspector": {
   "cols": {
    "lenName": 16,
    "lenType": 16,
    "lenVar": 40
   },
   "kernels_config": {
    "python": {
     "delete_cmd_postfix": "",
     "delete_cmd_prefix": "del ",
     "library": "var_list.py",
     "varRefreshCmd": "print(var_dic_list())"
    },
    "r": {
     "delete_cmd_postfix": ") ",
     "delete_cmd_prefix": "rm(",
     "library": "var_list.r",
     "varRefreshCmd": "cat(var_dic_list()) "
    }
   },
   "types_to_exclude": [
    "module",
    "function",
    "builtin_function_or_method",
    "instance",
    "_Feature"
   ],
   "window_display": false
  }
 },
 "nbformat": 4,
 "nbformat_minor": 5
}
