{
 "cells": [
  {
   "cell_type": "markdown",
   "id": "small-illustration",
   "metadata": {
    "ExecuteTime": {
     "end_time": "2021-09-07T06:28:18.871853Z",
     "start_time": "2021-09-07T06:28:18.856871Z"
    }
   },
   "source": [
    "# dart 자료와 네이버 증권 자료 병합하기"
   ]
  },
  {
   "cell_type": "code",
   "execution_count": null,
   "id": "coral-convergence",
   "metadata": {},
   "outputs": [],
   "source": [
    "# dart 자료에서 특정 index삭제하여 2021 분기 자료 삭제\n",
    "f=case.finance\n",
    "f.reset_index(drop=True,inplace=True)\n",
    "indexName = f[f['period']==202109].index\n",
    "f.drop(indexName,inplace=True)"
   ]
  },
  {
   "cell_type": "code",
   "execution_count": null,
   "id": "official-tribe",
   "metadata": {},
   "outputs": [],
   "source": [
    "# 분기 자료에 단위 맞춰서 더하고 저장하기\n",
    "with open('Raw_Finance/finance_naver_converted_202103.pickle', 'rb') as handle:\n",
    "    naver1 = pickle.load(handle)\n",
    "for col in naver1.columns[2:]:\n",
    "    naver1[col] = naver1[col]*100000000\n",
    "\n",
    "naver2 = case.finance_naver\n",
    "for col in naver2.columns[2:]:\n",
    "    naver2[col] = naver2[col]*100000000\n",
    "    \n",
    "finance = pd.concat([case.finance,naver1])\n",
    "finance = pd.concat([finance,naver2])\n",
    "finance.reset_index(drop=True,inplace=True)\n",
    "\n",
    "with open('Raw_Finance/finance_latest.pickle', 'wb') as handle:\n",
    "    pickle.dump(finance, handle, protocol=pickle.HIGHEST_PROTOCOL)"
   ]
  },
  {
   "cell_type": "code",
   "execution_count": null,
   "id": "southwest-flesh",
   "metadata": {},
   "outputs": [],
   "source": []
  },
  {
   "cell_type": "code",
   "execution_count": null,
   "id": "encouraging-shanghai",
   "metadata": {},
   "outputs": [],
   "source": []
  },
  {
   "cell_type": "code",
   "execution_count": null,
   "id": "happy-respect",
   "metadata": {},
   "outputs": [],
   "source": []
  }
 ],
 "metadata": {
  "kernelspec": {
   "display_name": "py38_64",
   "language": "python",
   "name": "py38_64"
  },
  "language_info": {
   "codemirror_mode": {
    "name": "ipython",
    "version": 3
   },
   "file_extension": ".py",
   "mimetype": "text/x-python",
   "name": "python",
   "nbconvert_exporter": "python",
   "pygments_lexer": "ipython3",
   "version": "3.8.8"
  },
  "toc": {
   "base_numbering": 1,
   "nav_menu": {},
   "number_sections": true,
   "sideBar": true,
   "skip_h1_title": false,
   "title_cell": "Table of Contents",
   "title_sidebar": "Contents",
   "toc_cell": false,
   "toc_position": {},
   "toc_section_display": true,
   "toc_window_display": false
  },
  "varInspector": {
   "cols": {
    "lenName": 16,
    "lenType": 16,
    "lenVar": 40
   },
   "kernels_config": {
    "python": {
     "delete_cmd_postfix": "",
     "delete_cmd_prefix": "del ",
     "library": "var_list.py",
     "varRefreshCmd": "print(var_dic_list())"
    },
    "r": {
     "delete_cmd_postfix": ") ",
     "delete_cmd_prefix": "rm(",
     "library": "var_list.r",
     "varRefreshCmd": "cat(var_dic_list()) "
    }
   },
   "types_to_exclude": [
    "module",
    "function",
    "builtin_function_or_method",
    "instance",
    "_Feature"
   ],
   "window_display": false
  }
 },
 "nbformat": 4,
 "nbformat_minor": 5
}
