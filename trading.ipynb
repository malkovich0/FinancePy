{
 "cells": [
  {
   "cell_type": "code",
   "execution_count": 1,
   "id": "friendly-clearance",
   "metadata": {
    "ExecuteTime": {
     "end_time": "2021-10-10T07:43:09.668877Z",
     "start_time": "2021-10-10T07:43:05.023414Z"
    }
   },
   "outputs": [],
   "source": [
    "from trading import *"
   ]
  },
  {
   "cell_type": "code",
   "execution_count": 2,
   "id": "metropolitan-enemy",
   "metadata": {
    "ExecuteTime": {
     "end_time": "2021-10-10T07:43:12.097173Z",
     "start_time": "2021-10-10T07:43:11.735155Z"
    }
   },
   "outputs": [
    {
     "name": "stdout",
     "output_type": "stream",
     "text": [
      "[('005930', Timestamp('2020-02-05 00:00:00')), ('005930', Timestamp('2020-02-11 00:00:00')), ('005930', Timestamp('2020-02-19 00:00:00')), ('005930', Timestamp('2020-04-06 00:00:00')), ('005930', Timestamp('2020-05-19 00:00:00')), ('005930', Timestamp('2020-05-26 00:00:00')), ('005930', Timestamp('2020-06-16 00:00:00')), ('005930', Timestamp('2020-06-24 00:00:00')), ('005930', Timestamp('2020-06-26 00:00:00')), ('005930', Timestamp('2020-07-03 00:00:00')), ('005930', Timestamp('2020-09-08 00:00:00')), ('005930', Timestamp('2020-09-28 00:00:00')), ('005930', Timestamp('2020-10-05 00:00:00')), ('005930', Timestamp('2020-11-05 00:00:00')), ('000660', Timestamp('2020-01-29 00:00:00')), ('000660', Timestamp('2020-02-06 00:00:00')), ('000660', Timestamp('2020-03-25 00:00:00')), ('000660', Timestamp('2020-03-30 00:00:00')), ('000660', Timestamp('2020-04-06 00:00:00')), ('000660', Timestamp('2020-04-22 00:00:00')), ('000660', Timestamp('2020-04-27 00:00:00')), ('000660', Timestamp('2020-05-08 00:00:00')), ('000660', Timestamp('2020-05-20 00:00:00')), ('000660', Timestamp('2020-05-28 00:00:00')), ('000660', Timestamp('2020-06-01 00:00:00')), ('000660', Timestamp('2020-06-16 00:00:00')), ('000660', Timestamp('2020-07-06 00:00:00')), ('000660', Timestamp('2020-07-21 00:00:00')), ('000660', Timestamp('2020-07-30 00:00:00')), ('000660', Timestamp('2020-09-03 00:00:00')), ('000660', Timestamp('2020-09-11 00:00:00')), ('000660', Timestamp('2020-11-05 00:00:00'))]\n"
     ]
    }
   ],
   "source": [
    "case_Trading = Trading()\n",
    "start = datetime(2020,1,1)\n",
    "end = datetime(2021,1,1)\n",
    "case_Trading.searchByTarget(targetStrategy='ma',targetGroup=['005930','000660'],targetPeriodStart=start,targetPeriodEnd=end)\n",
    "# case_Trading.makeTargetResult(tradeTarget=case_Trading.listTradeTarget,targetPeriodStart=start ,targetPeriodEnd=end)\n",
    "print(case_Trading.listTradeTarget)\n",
    "# print(case_Trading.dfTradeResult)"
   ]
  },
  {
   "cell_type": "code",
   "execution_count": 14,
   "id": "flush-drama",
   "metadata": {
    "ExecuteTime": {
     "end_time": "2021-10-10T08:04:23.475121Z",
     "start_time": "2021-10-10T08:04:23.453093Z"
    }
   },
   "outputs": [
    {
     "ename": "TypeError",
     "evalue": "'int' object is not callable",
     "output_type": "error",
     "traceback": [
      "\u001b[1;31m---------------------------------------------------------------------------\u001b[0m",
      "\u001b[1;31mTypeError\u001b[0m                                 Traceback (most recent call last)",
      "\u001b[1;32m<ipython-input-14-dcc5f73200e6>\u001b[0m in \u001b[0;36m<module>\u001b[1;34m\u001b[0m\n\u001b[1;32m----> 1\u001b[1;33m \u001b[0mcase_Trading\u001b[0m\u001b[1;33m.\u001b[0m\u001b[0mdfTradeResult\u001b[0m\u001b[1;33m.\u001b[0m\u001b[0mindex\u001b[0m\u001b[1;33m[\u001b[0m\u001b[1;36m0\u001b[0m\u001b[1;33m]\u001b[0m\u001b[1;33m.\u001b[0m\u001b[0mday\u001b[0m\u001b[1;33m(\u001b[0m\u001b[1;33m)\u001b[0m\u001b[1;33m\u001b[0m\u001b[1;33m\u001b[0m\u001b[0m\n\u001b[0m",
      "\u001b[1;31mTypeError\u001b[0m: 'int' object is not callable"
     ]
    }
   ],
   "source": [
    "case_Trading.dfTradeResult.index[0].day()"
   ]
  },
  {
   "cell_type": "code",
   "execution_count": 8,
   "id": "greek-ground",
   "metadata": {
    "ExecuteTime": {
     "end_time": "2021-10-10T07:45:28.176630Z",
     "start_time": "2021-10-10T07:45:28.154982Z"
    }
   },
   "outputs": [
    {
     "data": {
      "text/html": [
       "<div>\n",
       "<style scoped>\n",
       "    .dataframe tbody tr th:only-of-type {\n",
       "        vertical-align: middle;\n",
       "    }\n",
       "\n",
       "    .dataframe tbody tr th {\n",
       "        vertical-align: top;\n",
       "    }\n",
       "\n",
       "    .dataframe thead th {\n",
       "        text-align: right;\n",
       "    }\n",
       "</style>\n",
       "<table border=\"1\" class=\"dataframe\">\n",
       "  <thead>\n",
       "    <tr style=\"text-align: right;\">\n",
       "      <th></th>\n",
       "      <th>005930</th>\n",
       "      <th>000660</th>\n",
       "    </tr>\n",
       "    <tr>\n",
       "      <th>Date</th>\n",
       "      <th></th>\n",
       "      <th></th>\n",
       "    </tr>\n",
       "  </thead>\n",
       "  <tbody>\n",
       "    <tr>\n",
       "      <th>2020-01-02</th>\n",
       "      <td>1.000000</td>\n",
       "      <td>1.000000</td>\n",
       "    </tr>\n",
       "    <tr>\n",
       "      <th>2020-01-03</th>\n",
       "      <td>1.000000</td>\n",
       "      <td>1.000000</td>\n",
       "    </tr>\n",
       "    <tr>\n",
       "      <th>2020-01-06</th>\n",
       "      <td>1.000000</td>\n",
       "      <td>1.000000</td>\n",
       "    </tr>\n",
       "    <tr>\n",
       "      <th>2020-01-07</th>\n",
       "      <td>1.000000</td>\n",
       "      <td>1.000000</td>\n",
       "    </tr>\n",
       "    <tr>\n",
       "      <th>2020-01-08</th>\n",
       "      <td>1.000000</td>\n",
       "      <td>1.000000</td>\n",
       "    </tr>\n",
       "    <tr>\n",
       "      <th>...</th>\n",
       "      <td>...</td>\n",
       "      <td>...</td>\n",
       "    </tr>\n",
       "    <tr>\n",
       "      <th>2020-12-23</th>\n",
       "      <td>1.022130</td>\n",
       "      <td>1.031111</td>\n",
       "    </tr>\n",
       "    <tr>\n",
       "      <th>2020-12-24</th>\n",
       "      <td>1.052774</td>\n",
       "      <td>1.017241</td>\n",
       "    </tr>\n",
       "    <tr>\n",
       "      <th>2020-12-28</th>\n",
       "      <td>1.011568</td>\n",
       "      <td>0.978814</td>\n",
       "    </tr>\n",
       "    <tr>\n",
       "      <th>2020-12-29</th>\n",
       "      <td>0.994917</td>\n",
       "      <td>1.004329</td>\n",
       "    </tr>\n",
       "    <tr>\n",
       "      <th>2020-12-30</th>\n",
       "      <td>1.034483</td>\n",
       "      <td>1.021552</td>\n",
       "    </tr>\n",
       "  </tbody>\n",
       "</table>\n",
       "<p>248 rows × 2 columns</p>\n",
       "</div>"
      ],
      "text/plain": [
       "              005930    000660\n",
       "Date                          \n",
       "2020-01-02  1.000000  1.000000\n",
       "2020-01-03  1.000000  1.000000\n",
       "2020-01-06  1.000000  1.000000\n",
       "2020-01-07  1.000000  1.000000\n",
       "2020-01-08  1.000000  1.000000\n",
       "...              ...       ...\n",
       "2020-12-23  1.022130  1.031111\n",
       "2020-12-24  1.052774  1.017241\n",
       "2020-12-28  1.011568  0.978814\n",
       "2020-12-29  0.994917  1.004329\n",
       "2020-12-30  1.034483  1.021552\n",
       "\n",
       "[248 rows x 2 columns]"
      ]
     },
     "execution_count": 8,
     "metadata": {},
     "output_type": "execute_result"
    }
   ],
   "source": [
    "case_Trading.dfTradeResult.fillna(value=1,inplace=True)"
   ]
  },
  {
   "cell_type": "code",
   "execution_count": 3,
   "id": "encouraging-peninsula",
   "metadata": {
    "ExecuteTime": {
     "end_time": "2021-10-10T07:43:14.630863Z",
     "start_time": "2021-10-10T07:43:14.587812Z"
    }
   },
   "outputs": [],
   "source": [
    "case_Trading.makeTargetResult(tradeTarget=case_Trading.listTradeTarget,targetPeriodStart=start ,targetPeriodEnd=end)"
   ]
  },
  {
   "cell_type": "code",
   "execution_count": 2,
   "id": "breeding-handbook",
   "metadata": {
    "ExecuteTime": {
     "end_time": "2021-10-09T04:11:41.492255Z",
     "start_time": "2021-10-09T04:11:41.025284Z"
    },
    "collapsed": true
   },
   "outputs": [
    {
     "data": {
      "text/html": [
       "<div>\n",
       "<style scoped>\n",
       "    .dataframe tbody tr th:only-of-type {\n",
       "        vertical-align: middle;\n",
       "    }\n",
       "\n",
       "    .dataframe tbody tr th {\n",
       "        vertical-align: top;\n",
       "    }\n",
       "\n",
       "    .dataframe thead th {\n",
       "        text-align: right;\n",
       "    }\n",
       "</style>\n",
       "<table border=\"1\" class=\"dataframe\">\n",
       "  <thead>\n",
       "    <tr style=\"text-align: right;\">\n",
       "      <th></th>\n",
       "      <th>095570</th>\n",
       "      <th>006840</th>\n",
       "      <th>027410</th>\n",
       "      <th>282330</th>\n",
       "      <th>138930</th>\n",
       "      <th>001460</th>\n",
       "      <th>001465</th>\n",
       "      <th>001040</th>\n",
       "      <th>079160</th>\n",
       "      <th>00104K</th>\n",
       "      <th>...</th>\n",
       "      <th>066330</th>\n",
       "      <th>032590</th>\n",
       "      <th>042570</th>\n",
       "      <th>058680</th>\n",
       "      <th>012460</th>\n",
       "      <th>012990</th>\n",
       "      <th>014827</th>\n",
       "      <th>032710</th>\n",
       "      <th>015670</th>\n",
       "      <th>015675</th>\n",
       "    </tr>\n",
       "    <tr>\n",
       "      <th>Date</th>\n",
       "      <th></th>\n",
       "      <th></th>\n",
       "      <th></th>\n",
       "      <th></th>\n",
       "      <th></th>\n",
       "      <th></th>\n",
       "      <th></th>\n",
       "      <th></th>\n",
       "      <th></th>\n",
       "      <th></th>\n",
       "      <th></th>\n",
       "      <th></th>\n",
       "      <th></th>\n",
       "      <th></th>\n",
       "      <th></th>\n",
       "      <th></th>\n",
       "      <th></th>\n",
       "      <th></th>\n",
       "      <th></th>\n",
       "      <th></th>\n",
       "      <th></th>\n",
       "    </tr>\n",
       "  </thead>\n",
       "  <tbody>\n",
       "    <tr>\n",
       "      <th>1990-01-03</th>\n",
       "      <td>NaN</td>\n",
       "      <td>NaN</td>\n",
       "      <td>NaN</td>\n",
       "      <td>NaN</td>\n",
       "      <td>NaN</td>\n",
       "      <td>NaN</td>\n",
       "      <td>NaN</td>\n",
       "      <td>NaN</td>\n",
       "      <td>NaN</td>\n",
       "      <td>NaN</td>\n",
       "      <td>...</td>\n",
       "      <td>NaN</td>\n",
       "      <td>NaN</td>\n",
       "      <td>NaN</td>\n",
       "      <td>NaN</td>\n",
       "      <td>NaN</td>\n",
       "      <td>NaN</td>\n",
       "      <td>NaN</td>\n",
       "      <td>NaN</td>\n",
       "      <td>NaN</td>\n",
       "      <td>NaN</td>\n",
       "    </tr>\n",
       "    <tr>\n",
       "      <th>1990-01-04</th>\n",
       "      <td>NaN</td>\n",
       "      <td>NaN</td>\n",
       "      <td>NaN</td>\n",
       "      <td>NaN</td>\n",
       "      <td>NaN</td>\n",
       "      <td>NaN</td>\n",
       "      <td>NaN</td>\n",
       "      <td>NaN</td>\n",
       "      <td>NaN</td>\n",
       "      <td>NaN</td>\n",
       "      <td>...</td>\n",
       "      <td>NaN</td>\n",
       "      <td>NaN</td>\n",
       "      <td>NaN</td>\n",
       "      <td>NaN</td>\n",
       "      <td>NaN</td>\n",
       "      <td>NaN</td>\n",
       "      <td>NaN</td>\n",
       "      <td>NaN</td>\n",
       "      <td>NaN</td>\n",
       "      <td>NaN</td>\n",
       "    </tr>\n",
       "    <tr>\n",
       "      <th>1990-01-05</th>\n",
       "      <td>NaN</td>\n",
       "      <td>NaN</td>\n",
       "      <td>NaN</td>\n",
       "      <td>NaN</td>\n",
       "      <td>NaN</td>\n",
       "      <td>NaN</td>\n",
       "      <td>NaN</td>\n",
       "      <td>NaN</td>\n",
       "      <td>NaN</td>\n",
       "      <td>NaN</td>\n",
       "      <td>...</td>\n",
       "      <td>NaN</td>\n",
       "      <td>NaN</td>\n",
       "      <td>NaN</td>\n",
       "      <td>NaN</td>\n",
       "      <td>NaN</td>\n",
       "      <td>NaN</td>\n",
       "      <td>NaN</td>\n",
       "      <td>NaN</td>\n",
       "      <td>NaN</td>\n",
       "      <td>NaN</td>\n",
       "    </tr>\n",
       "    <tr>\n",
       "      <th>1990-01-06</th>\n",
       "      <td>NaN</td>\n",
       "      <td>NaN</td>\n",
       "      <td>NaN</td>\n",
       "      <td>NaN</td>\n",
       "      <td>NaN</td>\n",
       "      <td>NaN</td>\n",
       "      <td>NaN</td>\n",
       "      <td>NaN</td>\n",
       "      <td>NaN</td>\n",
       "      <td>NaN</td>\n",
       "      <td>...</td>\n",
       "      <td>NaN</td>\n",
       "      <td>NaN</td>\n",
       "      <td>NaN</td>\n",
       "      <td>NaN</td>\n",
       "      <td>NaN</td>\n",
       "      <td>NaN</td>\n",
       "      <td>NaN</td>\n",
       "      <td>NaN</td>\n",
       "      <td>NaN</td>\n",
       "      <td>NaN</td>\n",
       "    </tr>\n",
       "    <tr>\n",
       "      <th>1990-01-08</th>\n",
       "      <td>NaN</td>\n",
       "      <td>NaN</td>\n",
       "      <td>NaN</td>\n",
       "      <td>NaN</td>\n",
       "      <td>NaN</td>\n",
       "      <td>NaN</td>\n",
       "      <td>NaN</td>\n",
       "      <td>NaN</td>\n",
       "      <td>NaN</td>\n",
       "      <td>NaN</td>\n",
       "      <td>...</td>\n",
       "      <td>NaN</td>\n",
       "      <td>NaN</td>\n",
       "      <td>NaN</td>\n",
       "      <td>NaN</td>\n",
       "      <td>NaN</td>\n",
       "      <td>NaN</td>\n",
       "      <td>NaN</td>\n",
       "      <td>NaN</td>\n",
       "      <td>NaN</td>\n",
       "      <td>NaN</td>\n",
       "    </tr>\n",
       "    <tr>\n",
       "      <th>...</th>\n",
       "      <td>...</td>\n",
       "      <td>...</td>\n",
       "      <td>...</td>\n",
       "      <td>...</td>\n",
       "      <td>...</td>\n",
       "      <td>...</td>\n",
       "      <td>...</td>\n",
       "      <td>...</td>\n",
       "      <td>...</td>\n",
       "      <td>...</td>\n",
       "      <td>...</td>\n",
       "      <td>...</td>\n",
       "      <td>...</td>\n",
       "      <td>...</td>\n",
       "      <td>...</td>\n",
       "      <td>...</td>\n",
       "      <td>...</td>\n",
       "      <td>...</td>\n",
       "      <td>...</td>\n",
       "      <td>...</td>\n",
       "      <td>...</td>\n",
       "    </tr>\n",
       "    <tr>\n",
       "      <th>2021-09-27</th>\n",
       "      <td>5980.0</td>\n",
       "      <td>27300.0</td>\n",
       "      <td>6200.0</td>\n",
       "      <td>174500.0</td>\n",
       "      <td>8260.0</td>\n",
       "      <td>472500.0</td>\n",
       "      <td>188500.0</td>\n",
       "      <td>100500.0</td>\n",
       "      <td>29350.0</td>\n",
       "      <td>82000.0</td>\n",
       "      <td>...</td>\n",
       "      <td>NaN</td>\n",
       "      <td>NaN</td>\n",
       "      <td>NaN</td>\n",
       "      <td>NaN</td>\n",
       "      <td>NaN</td>\n",
       "      <td>NaN</td>\n",
       "      <td>NaN</td>\n",
       "      <td>NaN</td>\n",
       "      <td>NaN</td>\n",
       "      <td>NaN</td>\n",
       "    </tr>\n",
       "    <tr>\n",
       "      <th>2021-09-28</th>\n",
       "      <td>5900.0</td>\n",
       "      <td>27050.0</td>\n",
       "      <td>6050.0</td>\n",
       "      <td>173000.0</td>\n",
       "      <td>8590.0</td>\n",
       "      <td>456000.0</td>\n",
       "      <td>185000.0</td>\n",
       "      <td>99900.0</td>\n",
       "      <td>29100.0</td>\n",
       "      <td>81800.0</td>\n",
       "      <td>...</td>\n",
       "      <td>NaN</td>\n",
       "      <td>NaN</td>\n",
       "      <td>NaN</td>\n",
       "      <td>NaN</td>\n",
       "      <td>NaN</td>\n",
       "      <td>NaN</td>\n",
       "      <td>NaN</td>\n",
       "      <td>NaN</td>\n",
       "      <td>NaN</td>\n",
       "      <td>NaN</td>\n",
       "    </tr>\n",
       "    <tr>\n",
       "      <th>2021-09-29</th>\n",
       "      <td>5850.0</td>\n",
       "      <td>26700.0</td>\n",
       "      <td>5970.0</td>\n",
       "      <td>173000.0</td>\n",
       "      <td>8580.0</td>\n",
       "      <td>446500.0</td>\n",
       "      <td>183000.0</td>\n",
       "      <td>98000.0</td>\n",
       "      <td>29600.0</td>\n",
       "      <td>80800.0</td>\n",
       "      <td>...</td>\n",
       "      <td>NaN</td>\n",
       "      <td>NaN</td>\n",
       "      <td>NaN</td>\n",
       "      <td>NaN</td>\n",
       "      <td>NaN</td>\n",
       "      <td>NaN</td>\n",
       "      <td>NaN</td>\n",
       "      <td>NaN</td>\n",
       "      <td>NaN</td>\n",
       "      <td>NaN</td>\n",
       "    </tr>\n",
       "    <tr>\n",
       "      <th>2021-09-30</th>\n",
       "      <td>5840.0</td>\n",
       "      <td>26950.0</td>\n",
       "      <td>5980.0</td>\n",
       "      <td>170500.0</td>\n",
       "      <td>8840.0</td>\n",
       "      <td>444500.0</td>\n",
       "      <td>186000.0</td>\n",
       "      <td>98800.0</td>\n",
       "      <td>29700.0</td>\n",
       "      <td>81700.0</td>\n",
       "      <td>...</td>\n",
       "      <td>NaN</td>\n",
       "      <td>NaN</td>\n",
       "      <td>NaN</td>\n",
       "      <td>NaN</td>\n",
       "      <td>NaN</td>\n",
       "      <td>NaN</td>\n",
       "      <td>NaN</td>\n",
       "      <td>NaN</td>\n",
       "      <td>NaN</td>\n",
       "      <td>NaN</td>\n",
       "    </tr>\n",
       "    <tr>\n",
       "      <th>2021-10-01</th>\n",
       "      <td>5770.0</td>\n",
       "      <td>26800.0</td>\n",
       "      <td>5680.0</td>\n",
       "      <td>171000.0</td>\n",
       "      <td>8810.0</td>\n",
       "      <td>432500.0</td>\n",
       "      <td>184500.0</td>\n",
       "      <td>97100.0</td>\n",
       "      <td>29200.0</td>\n",
       "      <td>80800.0</td>\n",
       "      <td>...</td>\n",
       "      <td>NaN</td>\n",
       "      <td>NaN</td>\n",
       "      <td>NaN</td>\n",
       "      <td>NaN</td>\n",
       "      <td>NaN</td>\n",
       "      <td>NaN</td>\n",
       "      <td>NaN</td>\n",
       "      <td>NaN</td>\n",
       "      <td>NaN</td>\n",
       "      <td>NaN</td>\n",
       "    </tr>\n",
       "  </tbody>\n",
       "</table>\n",
       "<p>8259 rows × 3265 columns</p>\n",
       "</div>"
      ],
      "text/plain": [
       "            095570   006840  027410    282330  138930    001460    001465  \\\n",
       "Date                                                                        \n",
       "1990-01-03     NaN      NaN     NaN       NaN     NaN       NaN       NaN   \n",
       "1990-01-04     NaN      NaN     NaN       NaN     NaN       NaN       NaN   \n",
       "1990-01-05     NaN      NaN     NaN       NaN     NaN       NaN       NaN   \n",
       "1990-01-06     NaN      NaN     NaN       NaN     NaN       NaN       NaN   \n",
       "1990-01-08     NaN      NaN     NaN       NaN     NaN       NaN       NaN   \n",
       "...            ...      ...     ...       ...     ...       ...       ...   \n",
       "2021-09-27  5980.0  27300.0  6200.0  174500.0  8260.0  472500.0  188500.0   \n",
       "2021-09-28  5900.0  27050.0  6050.0  173000.0  8590.0  456000.0  185000.0   \n",
       "2021-09-29  5850.0  26700.0  5970.0  173000.0  8580.0  446500.0  183000.0   \n",
       "2021-09-30  5840.0  26950.0  5980.0  170500.0  8840.0  444500.0  186000.0   \n",
       "2021-10-01  5770.0  26800.0  5680.0  171000.0  8810.0  432500.0  184500.0   \n",
       "\n",
       "              001040   079160   00104K  ...  066330  032590  042570  058680  \\\n",
       "Date                                    ...                                   \n",
       "1990-01-03       NaN      NaN      NaN  ...     NaN     NaN     NaN     NaN   \n",
       "1990-01-04       NaN      NaN      NaN  ...     NaN     NaN     NaN     NaN   \n",
       "1990-01-05       NaN      NaN      NaN  ...     NaN     NaN     NaN     NaN   \n",
       "1990-01-06       NaN      NaN      NaN  ...     NaN     NaN     NaN     NaN   \n",
       "1990-01-08       NaN      NaN      NaN  ...     NaN     NaN     NaN     NaN   \n",
       "...              ...      ...      ...  ...     ...     ...     ...     ...   \n",
       "2021-09-27  100500.0  29350.0  82000.0  ...     NaN     NaN     NaN     NaN   \n",
       "2021-09-28   99900.0  29100.0  81800.0  ...     NaN     NaN     NaN     NaN   \n",
       "2021-09-29   98000.0  29600.0  80800.0  ...     NaN     NaN     NaN     NaN   \n",
       "2021-09-30   98800.0  29700.0  81700.0  ...     NaN     NaN     NaN     NaN   \n",
       "2021-10-01   97100.0  29200.0  80800.0  ...     NaN     NaN     NaN     NaN   \n",
       "\n",
       "            012460  012990  014827  032710  015670  015675  \n",
       "Date                                                        \n",
       "1990-01-03     NaN     NaN     NaN     NaN     NaN     NaN  \n",
       "1990-01-04     NaN     NaN     NaN     NaN     NaN     NaN  \n",
       "1990-01-05     NaN     NaN     NaN     NaN     NaN     NaN  \n",
       "1990-01-06     NaN     NaN     NaN     NaN     NaN     NaN  \n",
       "1990-01-08     NaN     NaN     NaN     NaN     NaN     NaN  \n",
       "...            ...     ...     ...     ...     ...     ...  \n",
       "2021-09-27     NaN     NaN     NaN     NaN     NaN     NaN  \n",
       "2021-09-28     NaN     NaN     NaN     NaN     NaN     NaN  \n",
       "2021-09-29     NaN     NaN     NaN     NaN     NaN     NaN  \n",
       "2021-09-30     NaN     NaN     NaN     NaN     NaN     NaN  \n",
       "2021-10-01     NaN     NaN     NaN     NaN     NaN     NaN  \n",
       "\n",
       "[8259 rows x 3265 columns]"
      ]
     },
     "execution_count": 2,
     "metadata": {},
     "output_type": "execute_result"
    }
   ],
   "source": [
    "case = Trading()\n",
    "case.close"
   ]
  },
  {
   "cell_type": "code",
   "execution_count": 3,
   "id": "decimal-miller",
   "metadata": {
    "ExecuteTime": {
     "end_time": "2021-10-09T04:12:16.853874Z",
     "start_time": "2021-10-09T04:12:16.836855Z"
    }
   },
   "outputs": [],
   "source": [
    "close1 = case.close"
   ]
  },
  {
   "cell_type": "code",
   "execution_count": 11,
   "id": "supposed-artwork",
   "metadata": {
    "ExecuteTime": {
     "end_time": "2021-10-09T04:16:57.242292Z",
     "start_time": "2021-10-09T04:16:57.234312Z"
    }
   },
   "outputs": [],
   "source": [
    "close2 = close1.loc[datetime(2020,1,1):datetime(2021,1,1),['005930','000660']]"
   ]
  },
  {
   "cell_type": "code",
   "execution_count": 34,
   "id": "derived-appearance",
   "metadata": {
    "ExecuteTime": {
     "end_time": "2021-10-10T06:36:45.478024Z",
     "start_time": "2021-10-10T06:36:45.440999Z"
    }
   },
   "outputs": [
    {
     "data": {
      "text/html": [
       "<div>\n",
       "<style scoped>\n",
       "    .dataframe tbody tr th:only-of-type {\n",
       "        vertical-align: middle;\n",
       "    }\n",
       "\n",
       "    .dataframe tbody tr th {\n",
       "        vertical-align: top;\n",
       "    }\n",
       "\n",
       "    .dataframe thead th {\n",
       "        text-align: right;\n",
       "    }\n",
       "</style>\n",
       "<table border=\"1\" class=\"dataframe\">\n",
       "  <thead>\n",
       "    <tr style=\"text-align: right;\">\n",
       "      <th></th>\n",
       "      <th>005930</th>\n",
       "      <th>000660</th>\n",
       "    </tr>\n",
       "    <tr>\n",
       "      <th>Date</th>\n",
       "      <th></th>\n",
       "      <th></th>\n",
       "    </tr>\n",
       "  </thead>\n",
       "  <tbody>\n",
       "    <tr>\n",
       "      <th>2020-05-04</th>\n",
       "      <td>49180.0</td>\n",
       "      <td>82655.0</td>\n",
       "    </tr>\n",
       "    <tr>\n",
       "      <th>2020-05-06</th>\n",
       "      <td>49300.0</td>\n",
       "      <td>82775.0</td>\n",
       "    </tr>\n",
       "    <tr>\n",
       "      <th>2020-05-07</th>\n",
       "      <td>49390.0</td>\n",
       "      <td>82915.0</td>\n",
       "    </tr>\n",
       "    <tr>\n",
       "      <th>2020-05-08</th>\n",
       "      <td>49395.0</td>\n",
       "      <td>83010.0</td>\n",
       "    </tr>\n",
       "    <tr>\n",
       "      <th>2020-05-11</th>\n",
       "      <td>49335.0</td>\n",
       "      <td>82945.0</td>\n",
       "    </tr>\n",
       "    <tr>\n",
       "      <th>...</th>\n",
       "      <td>...</td>\n",
       "      <td>...</td>\n",
       "    </tr>\n",
       "    <tr>\n",
       "      <th>2020-12-23</th>\n",
       "      <td>71655.0</td>\n",
       "      <td>112585.0</td>\n",
       "    </tr>\n",
       "    <tr>\n",
       "      <th>2020-12-24</th>\n",
       "      <td>72145.0</td>\n",
       "      <td>113515.0</td>\n",
       "    </tr>\n",
       "    <tr>\n",
       "      <th>2020-12-28</th>\n",
       "      <td>72670.0</td>\n",
       "      <td>114350.0</td>\n",
       "    </tr>\n",
       "    <tr>\n",
       "      <th>2020-12-29</th>\n",
       "      <td>73250.0</td>\n",
       "      <td>115275.0</td>\n",
       "    </tr>\n",
       "    <tr>\n",
       "      <th>2020-12-30</th>\n",
       "      <td>73910.0</td>\n",
       "      <td>116175.0</td>\n",
       "    </tr>\n",
       "  </tbody>\n",
       "</table>\n",
       "<p>166 rows × 2 columns</p>\n",
       "</div>"
      ],
      "text/plain": [
       "             005930    000660\n",
       "Date                         \n",
       "2020-05-04  49180.0   82655.0\n",
       "2020-05-06  49300.0   82775.0\n",
       "2020-05-07  49390.0   82915.0\n",
       "2020-05-08  49395.0   83010.0\n",
       "2020-05-11  49335.0   82945.0\n",
       "...             ...       ...\n",
       "2020-12-23  71655.0  112585.0\n",
       "2020-12-24  72145.0  113515.0\n",
       "2020-12-28  72670.0  114350.0\n",
       "2020-12-29  73250.0  115275.0\n",
       "2020-12-30  73910.0  116175.0\n",
       "\n",
       "[166 rows x 2 columns]"
      ]
     },
     "execution_count": 34,
     "metadata": {},
     "output_type": "execute_result"
    }
   ],
   "source": [
    "close2.rolling(20).mean().loc[datetime(2020,5,1):datetime(2021,1,1),:]"
   ]
  },
  {
   "cell_type": "code",
   "execution_count": 22,
   "id": "governmental-thing",
   "metadata": {
    "ExecuteTime": {
     "end_time": "2021-10-09T04:21:48.017979Z",
     "start_time": "2021-10-09T04:21:48.002346Z"
    }
   },
   "outputs": [],
   "source": [
    "seriesClose = close2['005930']\n",
    "seriesMA = close2['005930'].rolling(20).mean()"
   ]
  },
  {
   "cell_type": "code",
   "execution_count": 26,
   "id": "legal-clark",
   "metadata": {
    "ExecuteTime": {
     "end_time": "2021-10-09T04:24:09.192352Z",
     "start_time": "2021-10-09T04:24:09.174857Z"
    }
   },
   "outputs": [
    {
     "data": {
      "text/plain": [
       "Date\n",
       "2020-01-02    55200.0\n",
       "2020-01-03    55500.0\n",
       "2020-01-06    55500.0\n",
       "2020-01-07    55800.0\n",
       "2020-01-08    56800.0\n",
       "               ...   \n",
       "2020-12-23    73900.0\n",
       "2020-12-24    77800.0\n",
       "2020-12-28    78700.0\n",
       "2020-12-29    78300.0\n",
       "2020-12-30    81000.0\n",
       "Name: 005930, Length: 248, dtype: float64"
      ]
     },
     "execution_count": 26,
     "metadata": {},
     "output_type": "execute_result"
    }
   ],
   "source": [
    "seriesClose"
   ]
  },
  {
   "cell_type": "code",
   "execution_count": 36,
   "id": "czech-message",
   "metadata": {
    "ExecuteTime": {
     "end_time": "2021-10-10T07:01:09.756844Z",
     "start_time": "2021-10-10T07:01:09.748835Z"
    }
   },
   "outputs": [
    {
     "name": "stdout",
     "output_type": "stream",
     "text": [
      "1 2\n",
      "2.1 3\n"
     ]
    }
   ],
   "source": [
    "a = [(1,2),(2.1,3)]\n",
    "# pd.DataFrame(a)\n",
    "for i,j in a:\n",
    "    print(i,j)"
   ]
  },
  {
   "cell_type": "code",
   "execution_count": 43,
   "id": "solved-fossil",
   "metadata": {
    "ExecuteTime": {
     "end_time": "2021-10-10T07:12:15.075629Z",
     "start_time": "2021-10-10T07:12:15.067638Z"
    }
   },
   "outputs": [
    {
     "data": {
      "text/plain": [
       "[]"
      ]
     },
     "execution_count": 43,
     "metadata": {},
     "output_type": "execute_result"
    }
   ],
   "source": [
    "a = []\n",
    "[c for c,d in a]"
   ]
  },
  {
   "cell_type": "code",
   "execution_count": 25,
   "id": "martial-indicator",
   "metadata": {
    "ExecuteTime": {
     "end_time": "2021-10-09T04:23:57.444572Z",
     "start_time": "2021-10-09T04:23:57.338566Z"
    }
   },
   "outputs": [
    {
     "data": {
      "text/plain": [
       "Date\n",
       "2020-01-02       NaN\n",
       "2020-01-03       NaN\n",
       "2020-01-06       NaN\n",
       "2020-01-07       NaN\n",
       "2020-01-08       NaN\n",
       "               ...  \n",
       "2020-12-23    2245.0\n",
       "2020-12-24    5655.0\n",
       "2020-12-28    6030.0\n",
       "2020-12-29    5050.0\n",
       "2020-12-30    7090.0\n",
       "Name: 005930, Length: 248, dtype: float64"
      ]
     },
     "execution_count": 25,
     "metadata": {},
     "output_type": "execute_result"
    }
   ],
   "source": [
    "seriesClose - seriesMA"
   ]
  },
  {
   "cell_type": "code",
   "execution_count": 31,
   "id": "unlimited-conducting",
   "metadata": {
    "ExecuteTime": {
     "end_time": "2021-10-09T04:29:00.618558Z",
     "start_time": "2021-10-09T04:29:00.601037Z"
    }
   },
   "outputs": [
    {
     "data": {
      "text/plain": [
       "55200.0"
      ]
     },
     "execution_count": 31,
     "metadata": {},
     "output_type": "execute_result"
    }
   ],
   "source": [
    "seriesClose[datetime(2020,1,2)]"
   ]
  },
  {
   "cell_type": "code",
   "execution_count": null,
   "id": "featured-infrared",
   "metadata": {},
   "outputs": [],
   "source": [
    "for i in range(len(seriesClose)):\n",
    "    "
   ]
  },
  {
   "cell_type": "code",
   "execution_count": 23,
   "id": "controlled-gospel",
   "metadata": {
    "ExecuteTime": {
     "end_time": "2021-10-09T04:23:35.154165Z",
     "start_time": "2021-10-09T04:23:35.136474Z"
    },
    "collapsed": true
   },
   "outputs": [
    {
     "data": {
      "text/plain": [
       "[0,\n",
       " 0,\n",
       " 0,\n",
       " 0,\n",
       " 0,\n",
       " 0,\n",
       " 0,\n",
       " 0,\n",
       " 0,\n",
       " 0,\n",
       " 0,\n",
       " 0,\n",
       " 0,\n",
       " 0,\n",
       " 0,\n",
       " 0,\n",
       " 0,\n",
       " 0,\n",
       " 0,\n",
       " 0,\n",
       " 0,\n",
       " 0,\n",
       " 1,\n",
       " 1,\n",
       " 1,\n",
       " 0,\n",
       " 1,\n",
       " 1,\n",
       " 1,\n",
       " 1,\n",
       " 1,\n",
       " 0,\n",
       " 1,\n",
       " 1,\n",
       " 0,\n",
       " 0,\n",
       " 0,\n",
       " 0,\n",
       " 0,\n",
       " 0,\n",
       " 0,\n",
       " 0,\n",
       " 0,\n",
       " 0,\n",
       " 0,\n",
       " 0,\n",
       " 0,\n",
       " 0,\n",
       " 0,\n",
       " 0,\n",
       " 0,\n",
       " 0,\n",
       " 0,\n",
       " 0,\n",
       " 0,\n",
       " 0,\n",
       " 0,\n",
       " 0,\n",
       " 0,\n",
       " 0,\n",
       " 0,\n",
       " 0,\n",
       " 0,\n",
       " 0,\n",
       " 0,\n",
       " 1,\n",
       " 1,\n",
       " 1,\n",
       " 1,\n",
       " 1,\n",
       " 1,\n",
       " 1,\n",
       " 1,\n",
       " 1,\n",
       " 1,\n",
       " 1,\n",
       " 1,\n",
       " 1,\n",
       " 1,\n",
       " 1,\n",
       " 1,\n",
       " 1,\n",
       " 0,\n",
       " 0,\n",
       " 0,\n",
       " 0,\n",
       " 0,\n",
       " 0,\n",
       " 0,\n",
       " 0,\n",
       " 0,\n",
       " 0,\n",
       " 1,\n",
       " 1,\n",
       " 1,\n",
       " 0,\n",
       " 0,\n",
       " 1,\n",
       " 1,\n",
       " 1,\n",
       " 1,\n",
       " 1,\n",
       " 1,\n",
       " 1,\n",
       " 1,\n",
       " 1,\n",
       " 1,\n",
       " 1,\n",
       " 1,\n",
       " 1,\n",
       " 1,\n",
       " 0,\n",
       " 1,\n",
       " 1,\n",
       " 1,\n",
       " 1,\n",
       " 0,\n",
       " 0,\n",
       " 1,\n",
       " 0,\n",
       " 1,\n",
       " 0,\n",
       " 0,\n",
       " 0,\n",
       " 0,\n",
       " 1,\n",
       " 1,\n",
       " 1,\n",
       " 1,\n",
       " 1,\n",
       " 1,\n",
       " 1,\n",
       " 1,\n",
       " 1,\n",
       " 1,\n",
       " 1,\n",
       " 1,\n",
       " 1,\n",
       " 1,\n",
       " 1,\n",
       " 1,\n",
       " 1,\n",
       " 1,\n",
       " 1,\n",
       " 1,\n",
       " 1,\n",
       " 1,\n",
       " 1,\n",
       " 1,\n",
       " 1,\n",
       " 1,\n",
       " 1,\n",
       " 1,\n",
       " 1,\n",
       " 1,\n",
       " 1,\n",
       " 1,\n",
       " 1,\n",
       " 0,\n",
       " 0,\n",
       " 0,\n",
       " 0,\n",
       " 0,\n",
       " 0,\n",
       " 0,\n",
       " 0,\n",
       " 0,\n",
       " 0,\n",
       " 0,\n",
       " 0,\n",
       " 0,\n",
       " 1,\n",
       " 1,\n",
       " 1,\n",
       " 1,\n",
       " 1,\n",
       " 1,\n",
       " 1,\n",
       " 1,\n",
       " 1,\n",
       " 1,\n",
       " 1,\n",
       " 1,\n",
       " 0,\n",
       " 0,\n",
       " 1,\n",
       " 0,\n",
       " 1,\n",
       " 1,\n",
       " 1,\n",
       " 1,\n",
       " 1,\n",
       " 1,\n",
       " 1,\n",
       " 1,\n",
       " 1,\n",
       " 1,\n",
       " 1,\n",
       " 1,\n",
       " 1,\n",
       " 1,\n",
       " 1,\n",
       " 1,\n",
       " 0,\n",
       " 0,\n",
       " 0,\n",
       " 0,\n",
       " 0,\n",
       " 0,\n",
       " 1,\n",
       " 1,\n",
       " 1,\n",
       " 1,\n",
       " 1,\n",
       " 1,\n",
       " 1,\n",
       " 1,\n",
       " 1,\n",
       " 1,\n",
       " 1,\n",
       " 1,\n",
       " 1,\n",
       " 1,\n",
       " 1,\n",
       " 1,\n",
       " 1,\n",
       " 1,\n",
       " 1,\n",
       " 1,\n",
       " 1,\n",
       " 1,\n",
       " 1,\n",
       " 1,\n",
       " 1,\n",
       " 1,\n",
       " 1,\n",
       " 1,\n",
       " 1,\n",
       " 1,\n",
       " 1,\n",
       " 1,\n",
       " 1,\n",
       " 1,\n",
       " 1,\n",
       " 1,\n",
       " 1,\n",
       " 1,\n",
       " 1]"
      ]
     },
     "execution_count": 23,
     "metadata": {},
     "output_type": "execute_result"
    }
   ],
   "source": [
    "seriesSignal = [1 if close>ma else 0 for close,ma in zip(seriesClose, seriesMA)]\n",
    "seriesSignal"
   ]
  },
  {
   "cell_type": "code",
   "execution_count": null,
   "id": "moving-techno",
   "metadata": {},
   "outputs": [],
   "source": [
    "for signal in seriesSignal:"
   ]
  },
  {
   "cell_type": "code",
   "execution_count": 18,
   "id": "wireless-garlic",
   "metadata": {
    "ExecuteTime": {
     "end_time": "2021-10-09T04:18:41.811950Z",
     "start_time": "2021-10-09T04:18:41.798964Z"
    }
   },
   "outputs": [
    {
     "data": {
      "text/plain": [
       "Index(['005930', '000660'], dtype='object')"
      ]
     },
     "execution_count": 18,
     "metadata": {},
     "output_type": "execute_result"
    }
   ],
   "source": [
    "ma.columns"
   ]
  },
  {
   "cell_type": "code",
   "execution_count": 13,
   "id": "answering-reason",
   "metadata": {
    "ExecuteTime": {
     "end_time": "2021-10-09T04:17:29.034342Z",
     "start_time": "2021-10-09T04:17:29.022349Z"
    }
   },
   "outputs": [],
   "source": [
    "ma = close2.rolling(20).mean()"
   ]
  },
  {
   "cell_type": "code",
   "execution_count": null,
   "id": "pacific-aaron",
   "metadata": {},
   "outputs": [],
   "source": [
    "# 변수 저장, 불러오기a\n"
   ]
  },
  {
   "cell_type": "code",
   "execution_count": null,
   "id": "missing-programming",
   "metadata": {},
   "outputs": [],
   "source": [
    "def defineUniverse()"
   ]
  },
  {
   "cell_type": "code",
   "execution_count": null,
   "id": "stock-person",
   "metadata": {},
   "outputs": [],
   "source": [
    "def makeResult()"
   ]
  },
  {
   "cell_type": "code",
   "execution_count": null,
   "id": "operating-economics",
   "metadata": {},
   "outputs": [],
   "source": [
    "def searchByTarget(targetStrategy : str, targetGroup : str=None, targetPeriodStart : datetime=None, targetPeriodEnd : datetime=None):\n",
    "    \n",
    "    if not \n",
    "    if (targetStrategy == \"ma\"\n",
    "        \n",
    "        movingAverage = dfChange['Close'].rolling(daysForMABuy).mean()\n",
    "\n",
    "\n",
    "    listStockCode\n",
    "    listDateBuy\n",
    "\n",
    "# 나중에 일자별로도 분리할 수 있도록.\n",
    "    return pd.DataFrame({stock_code':listStockCode, 'date':listDateBuy})"
   ]
  }
 ],
 "metadata": {
  "kernelspec": {
   "display_name": "py38_64",
   "language": "python",
   "name": "py38_64"
  },
  "language_info": {
   "codemirror_mode": {
    "name": "ipython",
    "version": 3
   },
   "file_extension": ".py",
   "mimetype": "text/x-python",
   "name": "python",
   "nbconvert_exporter": "python",
   "pygments_lexer": "ipython3",
   "version": "3.8.8"
  },
  "toc": {
   "base_numbering": 1,
   "nav_menu": {},
   "number_sections": true,
   "sideBar": true,
   "skip_h1_title": false,
   "title_cell": "Table of Contents",
   "title_sidebar": "Contents",
   "toc_cell": false,
   "toc_position": {},
   "toc_section_display": true,
   "toc_window_display": false
  },
  "varInspector": {
   "cols": {
    "lenName": 16,
    "lenType": 16,
    "lenVar": 40
   },
   "kernels_config": {
    "python": {
     "delete_cmd_postfix": "",
     "delete_cmd_prefix": "del ",
     "library": "var_list.py",
     "varRefreshCmd": "print(var_dic_list())"
    },
    "r": {
     "delete_cmd_postfix": ") ",
     "delete_cmd_prefix": "rm(",
     "library": "var_list.r",
     "varRefreshCmd": "cat(var_dic_list()) "
    }
   },
   "types_to_exclude": [
    "module",
    "function",
    "builtin_function_or_method",
    "instance",
    "_Feature"
   ],
   "window_display": false
  }
 },
 "nbformat": 4,
 "nbformat_minor": 5
}
