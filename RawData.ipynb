{
 "cells": [
  {
   "cell_type": "code",
   "execution_count": 1,
   "id": "aware-gathering",
   "metadata": {
    "ExecuteTime": {
     "end_time": "2022-05-30T04:04:31.264458Z",
     "start_time": "2022-05-30T04:04:27.046723Z"
    }
   },
   "outputs": [],
   "source": [
    "from pykrx import stock\n",
    "import pandas as pd\n",
    "from datetime import datetime\n",
    "import pickle\n",
    "import warnings\n",
    "import FinanceDataReader as fdr\n",
    "from sklearn.linear_model import LinearRegression\n",
    "# import statsmodels.api as sm\n",
    "warnings.filterwarnings('ignore')"
   ]
  },
  {
   "cell_type": "markdown",
   "id": "analyzed-dutch",
   "metadata": {},
   "source": [
    "# 빈 테이블 만들기"
   ]
  },
  {
   "cell_type": "code",
   "execution_count": 2,
   "id": "isolated-violin",
   "metadata": {
    "ExecuteTime": {
     "end_time": "2022-05-30T04:04:33.602809Z",
     "start_time": "2022-05-30T04:04:33.579876Z"
    }
   },
   "outputs": [],
   "source": [
    "listColumns = ['stock_code','period','category1','category2','시가총액','상장주식수','총자산','현금','부채','지배자산',\n",
    "              '매출액Y','매출원가Y','매출총이익Y','판관비Y','영업이익Y','당기순이익Y','지배순이익Y','영업활동현금흐름Y',\n",
    "              '매출액Q','매출원가Q','매출총이익Q','판관비Q','영업이익Q','당기순이익Q','지배순이익Q','영업활동현금흐름Q',\n",
    "              '매출액','매출원가','매출총이익','판관비','영업이익','당기순이익','지배순이익','영업활동현금흐름']\n",
    "def makeDataframeBlank(dateBase : datetime):\n",
    "    # kospi_list = stock.get_market_ticker_list(date, market='KOSPI')\n",
    "    # kosdaq_list = stock.get_market_ticker_list(date, market='KOSDAQ')\n",
    "    market_cap_kospi = stock.get_market_cap_by_ticker(date=dateBase, market='KOSPI')\n",
    "    market_cap_kosdaq = stock.get_market_cap_by_ticker(date=dateBase, market='KOSDAQ')\n",
    "    dfBlank = pd.DataFrame(columns = listColumns)\n",
    "    dfBlank['stock_code']= list(market_cap_kospi.index) + list(market_cap_kosdaq.index)\n",
    "    dfBlank['period'] = definePeriod(dateBase = dateBase)\n",
    "    dfBlank['category1'] = ['kospi']*len(market_cap_kospi) + ['kosdaq']*len(market_cap_kosdaq)\n",
    "    dfBlank['시가총액'] = list(market_cap_kospi['시가총액']) + list(market_cap_kosdaq['시가총액'])\n",
    "    dfBlank['거래량'] = list(market_cap_kospi['거래량']) + list(market_cap_kosdaq['거래량'])\n",
    "    dfBlank['거래대금'] = list(market_cap_kospi['거래대금']) + list(market_cap_kosdaq['거래대금'])\n",
    "    dfBlank['상장주식수'] = list(market_cap_kospi['상장주식수']) + list(market_cap_kosdaq['상장주식수'])\n",
    "    return dfBlank"
   ]
  },
  {
   "cell_type": "code",
   "execution_count": 3,
   "id": "extraordinary-coaching",
   "metadata": {
    "ExecuteTime": {
     "end_time": "2022-05-30T04:04:35.544458Z",
     "start_time": "2022-05-30T04:04:35.529493Z"
    }
   },
   "outputs": [],
   "source": [
    "def definePeriod(dateBase : datetime):\n",
    "    if dateBase.month == 4:\n",
    "        period = str(dateBase.year-1) + '12'\n",
    "    elif dateBase.month == 5:\n",
    "        period = str(dateBase.year) + '03'\n",
    "    elif dateBase.month == 8:\n",
    "        period = str(dateBase.year) + '06'\n",
    "    elif dateBase.month == 11:\n",
    "        period = str(dateBase.year) + '09'\n",
    "    else:\n",
    "        print(\"check dateBase!!!\")\n",
    "    return period"
   ]
  },
  {
   "cell_type": "code",
   "execution_count": 4,
   "id": "common-bradford",
   "metadata": {
    "ExecuteTime": {
     "end_time": "2022-05-30T04:05:23.398159Z",
     "start_time": "2022-05-30T04:05:10.217941Z"
    }
   },
   "outputs": [
    {
     "name": "stdout",
     "output_type": "stream",
     "text": [
      "[datetime.datetime(2020, 11, 15, 0, 0), datetime.datetime(2021, 4, 1, 0, 0), datetime.datetime(2021, 5, 15, 0, 0), datetime.datetime(2021, 8, 15, 0, 0), datetime.datetime(2021, 11, 15, 0, 0), datetime.datetime(2022, 4, 1, 0, 0), datetime.datetime(2022, 5, 15, 0, 0)]\n"
     ]
    }
   ],
   "source": [
    "start = datetime(2020,9,1)\n",
    "end = datetime(2022,5,30)\n",
    "listPeriod = []\n",
    "for year in range(start.year, end.year+1):\n",
    "    for date in [datetime(year,4,1), datetime(year,5,15), datetime(year,8,15), datetime(year,11,15)]:\n",
    "        if (date >= start)&(date <= end):\n",
    "            listPeriod.append(date)\n",
    "print(listPeriod)\n",
    "dfBlankAll = pd.DataFrame()\n",
    "for dateBase in listPeriod:\n",
    "    dfBlankTemp = makeDataframeBlank(dateBase=dateBase)\n",
    "    dfBlankAll = pd.concat([dfBlankAll,dfBlankTemp],axis=0)\n",
    "dfBlankAll.reset_index(drop=True,inplace=True)"
   ]
  },
  {
   "cell_type": "markdown",
   "id": "explicit-scanning",
   "metadata": {},
   "source": [
    "# DartAPI 자료 활용하여 값 넣기"
   ]
  },
  {
   "cell_type": "markdown",
   "id": "primary-baseline",
   "metadata": {
    "ExecuteTime": {
     "end_time": "2021-11-16T12:33:34.393798Z",
     "start_time": "2021-11-16T12:33:34.382207Z"
    }
   },
   "source": [
    "## 출처 값을 그대로 넣기"
   ]
  },
  {
   "cell_type": "code",
   "execution_count": 5,
   "id": "intellectual-segment",
   "metadata": {
    "ExecuteTime": {
     "end_time": "2022-05-30T04:05:33.948383Z",
     "start_time": "2022-05-30T04:05:33.936440Z"
    }
   },
   "outputs": [],
   "source": [
    "value_dict = {'총자산':'ifrs-full_Assets', '현금':'ifrs-full_CashAndCashEquivalents',\n",
    "              '부채':'ifrs-full_Liabilities','지배자산':'ifrs-full_EquityAttributableToOwnersOfParent',\n",
    "             '매출액':'ifrs-full_Revenue', '매출원가':'ifrs-full_CostOfSales', \n",
    "              '매출총이익':'ifrs-full_GrossProfit', '판관비':'dart_TotalSellingGeneralAdministrativeExpenses',\n",
    "              '영업이익':'dart_OperatingIncomeLoss',\n",
    "#               '계속영업이익':'ifrs-full_ProfitLossFromContinuingOperations',\n",
    "              '당기순이익':'ifrs-full_ProfitLoss', '지배순이익':'ifrs-full_ProfitLossAttributableToOwnersOfParent',\n",
    "             '영업활동현금흐름':'ifrs-full_CashFlowsFromUsedInOperatingActivities'}"
   ]
  },
  {
   "cell_type": "code",
   "execution_count": 6,
   "id": "narrow-heading",
   "metadata": {
    "ExecuteTime": {
     "end_time": "2022-05-30T04:05:37.816216Z",
     "start_time": "2022-05-30T04:05:37.792459Z"
    }
   },
   "outputs": [],
   "source": [
    "listCategory = ['총자산','현금','부채','지배자산','매출액','매출원가','매출총이익','판관비','영업이익','당기순이익','지배순이익','영업활동현금흐름']\n",
    "# listPeriodStr = ['202109','202106','202103','202012','202009','202006','202003','201912', '201909']\n",
    "listPeriodStr = list(set(dfBlankAll.period))\n",
    "listPeriodStr.sort(reverse=True)"
   ]
  },
  {
   "cell_type": "code",
   "execution_count": 7,
   "id": "breeding-survival",
   "metadata": {
    "ExecuteTime": {
     "end_time": "2022-05-30T04:05:40.358416Z",
     "start_time": "2022-05-30T04:05:40.349447Z"
    }
   },
   "outputs": [],
   "source": [
    "def makeSeriesValueByCategory(category : str):\n",
    "    cases_temp = dfFinancePeriod[dfFinancePeriod.account_id == value_dict[category]][['stock_code','period','thstrm_amount']]\n",
    "    cases_temp.drop_duplicates(['stock_code','period'],keep='first',inplace=True)\n",
    "    dfBlankAll_temp = dfBlankAll[['stock_code','period']]\n",
    "    seriesValue = pd.merge(dfBlankAll_temp,cases_temp,how='left',on=['stock_code','period'])['thstrm_amount']\n",
    "    return seriesValue"
   ]
  },
  {
   "cell_type": "code",
   "execution_count": 8,
   "id": "caroline-newfoundland",
   "metadata": {
    "ExecuteTime": {
     "end_time": "2022-05-30T04:06:31.583139Z",
     "start_time": "2022-05-30T04:06:12.659880Z"
    }
   },
   "outputs": [],
   "source": [
    "for period in listPeriodStr:\n",
    "    with open(f'Raw_Finance/dartAPI/{period}.pickle','rb') as handle:\n",
    "        dfFinancePeriod = pickle.load(handle)\n",
    "    dfFinancePeriod['period'] = period\n",
    "    for nameCategory in listCategory:\n",
    "    #     dfBlankAll.loc[dfBlankAll.period==period,nameCategory]=makeSeriesValueByCategory(nameCategory)\n",
    "        dfBlankAll[nameCategory].fillna(makeSeriesValueByCategory(nameCategory), inplace=True)"
   ]
  },
  {
   "cell_type": "code",
   "execution_count": 9,
   "id": "closed-enclosure",
   "metadata": {
    "ExecuteTime": {
     "end_time": "2022-05-30T04:06:46.047940Z",
     "start_time": "2022-05-30T04:06:45.737297Z"
    }
   },
   "outputs": [],
   "source": [
    "for category in listCategory:\n",
    "    dfBlankAll[category] = pd.to_numeric(dfBlankAll[category])"
   ]
  },
  {
   "cell_type": "code",
   "execution_count": 10,
   "id": "buried-alabama",
   "metadata": {
    "ExecuteTime": {
     "end_time": "2022-05-30T04:06:47.624057Z",
     "start_time": "2022-05-30T04:06:47.588188Z"
    }
   },
   "outputs": [
    {
     "data": {
      "text/plain": [
       "stock_code       0\n",
       "period           0\n",
       "category1        0\n",
       "category2     2498\n",
       "시가총액             0\n",
       "상장주식수            0\n",
       "총자산            320\n",
       "현금             320\n",
       "부채             320\n",
       "지배자산           791\n",
       "매출액Y          2498\n",
       "매출원가Y         2498\n",
       "매출총이익Y        2498\n",
       "판관비Y          2498\n",
       "영업이익Y         2498\n",
       "당기순이익Y        2498\n",
       "지배순이익Y        2498\n",
       "영업활동현금흐름Y     2498\n",
       "매출액Q          2498\n",
       "매출원가Q         2498\n",
       "매출총이익Q        2498\n",
       "판관비Q          2498\n",
       "영업이익Q         2498\n",
       "당기순이익Q        2498\n",
       "지배순이익Q        2498\n",
       "영업활동현금흐름Q     2498\n",
       "매출액            371\n",
       "매출원가           456\n",
       "매출총이익          467\n",
       "판관비            465\n",
       "영업이익           325\n",
       "당기순이익          327\n",
       "지배순이익         1029\n",
       "영업활동현금흐름       338\n",
       "거래량              0\n",
       "거래대금             0\n",
       "dtype: int64"
      ]
     },
     "execution_count": 10,
     "metadata": {},
     "output_type": "execute_result"
    }
   ],
   "source": [
    "dfBlankAll[dfBlankAll.period=='202203'].isnull().sum()"
   ]
  },
  {
   "cell_type": "markdown",
   "id": "invalid-heater",
   "metadata": {},
   "source": [
    "## 출처값으로 Q, Y 값 넣기"
   ]
  },
  {
   "cell_type": "code",
   "execution_count": 11,
   "id": "level-translation",
   "metadata": {
    "ExecuteTime": {
     "end_time": "2022-05-30T04:07:10.080943Z",
     "start_time": "2022-05-30T04:07:08.723855Z"
    }
   },
   "outputs": [],
   "source": [
    "for i in range(len(listPeriodStr)-4):\n",
    "    for category in listCategory[4:]:\n",
    "        dfPeriod = dfBlankAll[dfBlankAll.period == listPeriodStr[i]][['stock_code','period',category]]\n",
    "        if listPeriodStr[i][-2:] != '12':\n",
    "            dfPeriodMinus4Q = dfBlankAll[dfBlankAll.period == listPeriodStr[i+4]][['stock_code',category]].rename(columns={category:category+'4Q'})\n",
    "            dfPeriodLastYear = dfBlankAll[dfBlankAll.period == (str(int(listPeriodStr[i][:4])-1)+'12')][['stock_code',category]].rename(columns={category:category+'LY'})\n",
    "            dfPeriod = pd.merge(dfPeriod,dfPeriodLastYear,how='left',on=['stock_code'])\n",
    "            dfPeriod = pd.merge(dfPeriod,dfPeriodMinus4Q,how='left',on=['stock_code'])\n",
    "            dfPeriod[f'{category}Y'] = dfPeriod[category] + dfPeriod[f'{category}LY'] - dfPeriod[f'{category}4Q']\n",
    "        else:\n",
    "            dfPeriod[f'{category}Y'] = dfPeriod[category]\n",
    "        dfPeriodMinus1Q = dfBlankAll[dfBlankAll.period == listPeriodStr[i+1]][['stock_code',category]].rename(columns={category:category+'1Q'})\n",
    "        dfPeriod = pd.merge(dfPeriod,dfPeriodMinus1Q,how='left',on=['stock_code'])\n",
    "        dfPeriod[f'{category}Q'] = dfPeriod[category] - dfPeriod[f'{category}1Q']\n",
    "        \n",
    "        dfBlankAll_temp = dfBlankAll[['stock_code','period']]\n",
    "        dfPeriod_temp = dfPeriod[['stock_code','period',f'{category}Y']]\n",
    "        seriesValue = pd.merge(dfBlankAll_temp,dfPeriod_temp,how='left',on=['stock_code','period'])[f'{category}Y']\n",
    "        dfBlankAll[f'{category}Y'].fillna(seriesValue, inplace=True)\n",
    "\n",
    "        dfPeriod_temp = dfPeriod[['stock_code','period',f'{category}Q']]\n",
    "        seriesValue = pd.merge(dfBlankAll_temp,dfPeriod_temp,how='left',on=['stock_code','period'])[f'{category}Q']\n",
    "        dfBlankAll[f'{category}Q'].fillna(seriesValue, inplace=True)"
   ]
  },
  {
   "cell_type": "code",
   "execution_count": 12,
   "id": "immune-turner",
   "metadata": {
    "ExecuteTime": {
     "end_time": "2022-05-30T04:07:15.355461Z",
     "start_time": "2022-05-30T04:07:15.337743Z"
    }
   },
   "outputs": [],
   "source": [
    "dfAll = dfBlankAll[['stock_code','period','총자산','현금','부채','지배자산','매출액Y','매출원가Y',\n",
    "                    '매출총이익Y','판관비Y','영업이익Y','당기순이익Y','지배순이익Y','영업활동현금흐름Y']]\n",
    "dfAll = dfAll.rename(columns = {'매출액Y':'매출액','매출원가Y':'매출원가','매출총이익Y':'매출총이익','판관비Y':'판관비',\n",
    "                      '영업이익Y':'영업이익','당기순이익Y':'당기순이익','지배순이익Y':'지배순이익','영업활동현금흐름Y':'영업활동현금흐름'})"
   ]
  },
  {
   "cell_type": "code",
   "execution_count": 13,
   "id": "actual-ground",
   "metadata": {
    "ExecuteTime": {
     "end_time": "2022-05-30T04:07:20.659275Z",
     "start_time": "2022-05-30T04:07:20.636294Z"
    }
   },
   "outputs": [],
   "source": [
    "dfAll = dfBlankAll[['stock_code','period','총자산','현금','부채','지배자산','매출액','매출원가','매출총이익','판관비','영업이익','당기순이익','지배순이익','영업활동현금흐름']]"
   ]
  },
  {
   "cell_type": "code",
   "execution_count": 14,
   "id": "available-volleyball",
   "metadata": {
    "ExecuteTime": {
     "end_time": "2022-05-30T04:07:22.241791Z",
     "start_time": "2022-05-30T04:07:22.215857Z"
    }
   },
   "outputs": [],
   "source": [
    "dfAll['period'] = pd.to_numeric(dfAll['period'])"
   ]
  },
  {
   "cell_type": "code",
   "execution_count": 15,
   "id": "minor-philip",
   "metadata": {
    "ExecuteTime": {
     "end_time": "2022-05-30T04:07:35.682316Z",
     "start_time": "2022-05-30T04:07:35.656162Z"
    }
   },
   "outputs": [],
   "source": [
    "with open('Raw_Finance/finance_dartapi.pickle','wb') as handle:\n",
    "    pickle.dump(dfAll, handle, protocol=pickle.HIGHEST_PROTOCOL)"
   ]
  },
  {
   "cell_type": "code",
   "execution_count": 16,
   "id": "distributed-durham",
   "metadata": {
    "ExecuteTime": {
     "end_time": "2022-05-30T04:07:37.717086Z",
     "start_time": "2022-05-30T04:07:37.681729Z"
    }
   },
   "outputs": [],
   "source": [
    "with open('Raw_Finance/finance_dartapi.pickle','rb') as handle:\n",
    "    cases = pickle.load(handle)"
   ]
  },
  {
   "cell_type": "code",
   "execution_count": 18,
   "id": "5a6b5d92",
   "metadata": {
    "ExecuteTime": {
     "end_time": "2022-05-30T04:08:21.606098Z",
     "start_time": "2022-05-30T04:08:21.579010Z"
    }
   },
   "outputs": [
    {
     "data": {
      "text/plain": [
       "stock_code       0\n",
       "period           0\n",
       "총자산           2152\n",
       "현금            2151\n",
       "부채            2142\n",
       "지배자산          5404\n",
       "매출액           2446\n",
       "매출원가          3027\n",
       "매출총이익         3131\n",
       "판관비           3123\n",
       "영업이익          2174\n",
       "당기순이익         2198\n",
       "지배순이익         6901\n",
       "영업활동현금흐름      2259\n",
       "dtype: int64"
      ]
     },
     "execution_count": 18,
     "metadata": {},
     "output_type": "execute_result"
    }
   ],
   "source": [
    "cases.isnull().sum()"
   ]
  },
  {
   "cell_type": "markdown",
   "id": "wrong-timothy",
   "metadata": {},
   "source": [
    "## 통계분석"
   ]
  },
  {
   "cell_type": "code",
   "execution_count": 3,
   "id": "blocked-cleaners",
   "metadata": {
    "ExecuteTime": {
     "end_time": "2021-12-01T00:52:30.971179Z",
     "start_time": "2021-12-01T00:52:30.957178Z"
    }
   },
   "outputs": [],
   "source": [
    "with open('Raw_Finance/finance_dartapi.pickle','rb') as handle:\n",
    "    cases = pickle.load(handle)"
   ]
  },
  {
   "cell_type": "code",
   "execution_count": 151,
   "id": "absent-floating",
   "metadata": {
    "ExecuteTime": {
     "end_time": "2021-12-01T02:58:25.934085Z",
     "start_time": "2021-12-01T02:58:25.915446Z"
    }
   },
   "outputs": [],
   "source": [
    "def defineThisDate(period : str):\n",
    "    if period[-2:] == '03':\n",
    "        dateStart = period[:4] + '0401'\n",
    "        dateEnd = period[:4] + '0515'\n",
    "    elif period[-2:] == '06':\n",
    "        dateStart = period[:4]+'0515'\n",
    "        dateEnd = period[:4]+'0815'\n",
    "    elif period[-2:] == '09':\n",
    "        dateStart = period[:4] + '0815'\n",
    "        dateEnd = period[:4] + '1115'\n",
    "    elif period[-2:] == '12':\n",
    "        dateStart = period[:4] + '1115'\n",
    "        dateEnd = str(int(period[:4])+1) + '0401' \n",
    "    else:\n",
    "        print('check period')\n",
    "    return dateStart,dateEnd"
   ]
  },
  {
   "cell_type": "code",
   "execution_count": 152,
   "id": "scientific-affiliation",
   "metadata": {
    "ExecuteTime": {
     "end_time": "2021-12-01T02:58:27.134988Z",
     "start_time": "2021-12-01T02:58:27.117149Z"
    }
   },
   "outputs": [],
   "source": [
    "def defineNextDate(period : str):\n",
    "    if period[-2:] == '03':\n",
    "        dateStart = period[:4]+'0515'\n",
    "        dateEnd = period[:4]+'0815'\n",
    "    elif period[-2:] == '06':\n",
    "        dateStart = period[:4] + '0815'\n",
    "        dateEnd = period[:4] + '1115'\n",
    "    elif period[-2:] == '09':\n",
    "        dateStart = period[:4] + '1115'\n",
    "        dateEnd = str(int(period[:4])+1) + '0401' \n",
    "    elif period[-2:] == '12':\n",
    "        dateStart = str(int(period[:4])+1) + '0401'\n",
    "        dateEnd = str(int(period[:4])+1) + '0515'\n",
    "    else:\n",
    "        print('check period')\n",
    "    return dateStart,dateEnd"
   ]
  },
  {
   "cell_type": "code",
   "execution_count": 9,
   "id": "wrong-friendship",
   "metadata": {
    "ExecuteTime": {
     "end_time": "2021-12-01T01:00:01.342968Z",
     "start_time": "2021-12-01T01:00:01.328318Z"
    }
   },
   "outputs": [],
   "source": [
    "def calculateRegressedReturn(listYield : pd.Series):\n",
    "    # 1년간의 cumprod() 값을 활용하여, x축은 index, y축은 수익률\n",
    "    lr = LinearRegression()\n",
    "    axisX = np.arange(len(listYield))/252\n",
    "    axisX = axisX.reshape(-1,1)\n",
    "    axisY = np.array(listYield.cumprod())\n",
    "    axisY = axisY.reshape(-1,1)\n",
    "    lr.fit(axisX, axisY)\n",
    "    rar = lr.coef_ # Regressed Annual Return\n",
    "    # rSquare = lr.score(axisX,axisY)\n",
    "    return rar[0][0]"
   ]
  },
  {
   "cell_type": "code",
   "execution_count": 72,
   "id": "boxed-writer",
   "metadata": {
    "ExecuteTime": {
     "end_time": "2021-12-01T01:38:30.954527Z",
     "start_time": "2021-12-01T01:38:30.925524Z"
    }
   },
   "outputs": [],
   "source": [
    "dfBlankAll['BPR'] = dfBlankAll['총자산'] / dfBlankAll['시가총액']\n",
    "dfBlankAll['EPR'] = dfBlankAll['당기순이익Y'] / dfBlankAll['시가총액']\n",
    "dfBlankAll['SPR'] = dfBlankAll['매출액Y'] / dfBlankAll['시가총액']\n",
    "dfBlankAll['CPR'] = dfBlankAll['영업활동현금흐름Y'] / dfBlankAll['시가총액']\n",
    "dfBlankAll['SPPR'] = dfBlankAll['매출총이익Y'] / dfBlankAll['시가총액']\n",
    "dfBlankAll['시가총액']\n",
    "dfBlankAll_modi = dfBlankAll.dropna(subset=['BPR','EPR','SPR','CPR','SPPR','시가총액'],how='any')\n"
   ]
  },
  {
   "cell_type": "code",
   "execution_count": 158,
   "id": "multiple-manual",
   "metadata": {
    "ExecuteTime": {
     "end_time": "2021-12-01T03:20:17.598084Z",
     "start_time": "2021-12-01T03:20:17.581086Z"
    }
   },
   "outputs": [],
   "source": [
    "dfBlankAll_modi_lastperiod = dfBlankAll_modi[dfBlankAll_modi.period == '202009']\n",
    "dfBlankAll_modi_thisperiod = dfBlankAll_modi[dfBlankAll_modi.period == '202012']"
   ]
  },
  {
   "cell_type": "code",
   "execution_count": 161,
   "id": "seeing-butler",
   "metadata": {
    "ExecuteTime": {
     "end_time": "2021-12-01T03:26:07.848997Z",
     "start_time": "2021-12-01T03:20:27.419728Z"
    }
   },
   "outputs": [],
   "source": [
    "listNextRar = []\n",
    "for i in range(len(dfBlankAll_modi_lastperiod)):\n",
    "    stock_code = dfBlankAll_modi_lastperiod.iat[i,0]\n",
    "    dateStart, dateEnd = defineNextDate(str(dfBlankAll_modi_lastperiod.iat[i,1]))\n",
    "    dfOHLCV = fdr.DataReader(symbol = stock_code ,start=dateStart, end=dateEnd)\n",
    "    nextRar = calculateRegressedReturn(dfOHLCV.Change+1)\n",
    "    listNextRar.append(nextRar)\n",
    "dfBlankAll_modi_lastperiod['RAR'] = listNextRar"
   ]
  },
  {
   "cell_type": "code",
   "execution_count": 163,
   "id": "secure-delight",
   "metadata": {
    "ExecuteTime": {
     "end_time": "2021-12-01T03:33:09.797277Z",
     "start_time": "2021-12-01T03:33:09.785670Z"
    }
   },
   "outputs": [
    {
     "data": {
      "text/plain": [
       "nan"
      ]
     },
     "execution_count": 163,
     "metadata": {},
     "output_type": "execute_result"
    }
   ],
   "source": [
    "np.nan"
   ]
  },
  {
   "cell_type": "code",
   "execution_count": 164,
   "id": "pending-outline",
   "metadata": {
    "ExecuteTime": {
     "end_time": "2021-12-01T03:39:18.501085Z",
     "start_time": "2021-12-01T03:33:26.840050Z"
    }
   },
   "outputs": [
    {
     "name": "stdout",
     "output_type": "stream",
     "text": [
      "333620\n"
     ]
    }
   ],
   "source": [
    "listNextRar = []\n",
    "for i in range(len(dfBlankAll_modi_thisperiod)):\n",
    "    stock_code = dfBlankAll_modi_thisperiod.iat[i,0]\n",
    "    dateStart, dateEnd = defineNextDate(str(dfBlankAll_modi_thisperiod.iat[i,1]))\n",
    "    dfOHLCV = fdr.DataReader(symbol = stock_code ,start=dateStart, end=dateEnd)\n",
    "    try:\n",
    "        nextRar = calculateRegressedReturn(dfOHLCV.Change+1)\n",
    "    except:\n",
    "        nextRar = 0\n",
    "        print(stock_code)\n",
    "    listNextRar.append(nextRar)\n",
    "dfBlankAll_modi_thisperiod['RAR'] = listNextRar"
   ]
  },
  {
   "cell_type": "code",
   "execution_count": 166,
   "id": "dominican-johns",
   "metadata": {
    "ExecuteTime": {
     "end_time": "2021-12-01T03:39:42.664131Z",
     "start_time": "2021-12-01T03:39:42.626457Z"
    }
   },
   "outputs": [],
   "source": [
    "dfBlankAll_modi_lastperiod['BPR_Q'] = pd.qcut(dfBlankAll_modi_lastperiod['BPR'], q=10, labels=range(10)).astype('int')\n",
    "dfBlankAll_modi_lastperiod['EPR_Q'] = pd.qcut(dfBlankAll_modi_lastperiod['EPR'], q=10, labels=range(10)).astype('int')\n",
    "dfBlankAll_modi_lastperiod['SPR_Q'] = pd.qcut(dfBlankAll_modi_lastperiod['SPR'], q=10, labels=range(10)).astype('int')\n",
    "dfBlankAll_modi_lastperiod['CPR_Q'] = pd.qcut(dfBlankAll_modi_lastperiod['CPR'], q=10, labels=range(10)).astype('int')\n",
    "dfBlankAll_modi_lastperiod['SPPR_Q'] = pd.qcut(dfBlankAll_modi_lastperiod['SPPR'], q=10, labels=range(10)).astype('int')\n",
    "dfBlankAll_modi_lastperiod['시가총액_Q'] = pd.qcut(dfBlankAll_modi_lastperiod['시가총액'], q=10, labels=range(10)).astype('int')\n",
    "dfBlankAll_modi_lastperiod['RAR_Q'] = pd.qcut(dfBlankAll_modi_lastperiod['RAR'], q=10, labels=range(10)).astype('int')"
   ]
  },
  {
   "cell_type": "code",
   "execution_count": 167,
   "id": "protective-egyptian",
   "metadata": {
    "ExecuteTime": {
     "end_time": "2021-12-01T03:39:43.759958Z",
     "start_time": "2021-12-01T03:39:43.725884Z"
    }
   },
   "outputs": [],
   "source": [
    "dfBlankAll_modi_thisperiod['BPR_Q'] = pd.qcut(dfBlankAll_modi_thisperiod['BPR'], q=10, labels=range(10)).astype('int')\n",
    "dfBlankAll_modi_thisperiod['EPR_Q'] = pd.qcut(dfBlankAll_modi_thisperiod['EPR'], q=10, labels=range(10)).astype('int')\n",
    "dfBlankAll_modi_thisperiod['SPR_Q'] = pd.qcut(dfBlankAll_modi_thisperiod['SPR'], q=10, labels=range(10)).astype('int')\n",
    "dfBlankAll_modi_thisperiod['CPR_Q'] = pd.qcut(dfBlankAll_modi_thisperiod['CPR'], q=10, labels=range(10)).astype('int')\n",
    "dfBlankAll_modi_thisperiod['SPPR_Q'] = pd.qcut(dfBlankAll_modi_thisperiod['SPPR'], q=10, labels=range(10)).astype('int')\n",
    "dfBlankAll_modi_thisperiod['시가총액_Q'] = pd.qcut(dfBlankAll_modi_thisperiod['시가총액'], q=10, labels=range(10)).astype('int')\n",
    "dfBlankAll_modi_thisperiod['RAR_Q'] = pd.qcut(dfBlankAll_modi_thisperiod['RAR'], q=10, labels=range(10)).astype('int')"
   ]
  },
  {
   "cell_type": "markdown",
   "id": "trained-chapel",
   "metadata": {},
   "source": [
    "### sklearn 활용"
   ]
  },
  {
   "cell_type": "code",
   "execution_count": 196,
   "id": "complicated-activity",
   "metadata": {
    "ExecuteTime": {
     "end_time": "2021-12-01T03:55:28.319116Z",
     "start_time": "2021-12-01T03:55:28.309118Z"
    }
   },
   "outputs": [],
   "source": [
    "dfX_train = dfBlankAll_modi_lastperiod[['BPR_Q','EPR_Q','SPR_Q','CPR_Q','SPPR_Q','시가총액_Q']]\n",
    "# dfX_train = dfX_train.reshape(-1,1)\n",
    "dfy_train = dfBlankAll_modi_lastperiod[['RAR_Q']].values\n",
    "# dfy_train = dfy_train.reshape(-1,1)"
   ]
  },
  {
   "cell_type": "code",
   "execution_count": 237,
   "id": "nuclear-morocco",
   "metadata": {
    "ExecuteTime": {
     "end_time": "2021-12-01T05:00:19.919759Z",
     "start_time": "2021-12-01T05:00:19.908759Z"
    }
   },
   "outputs": [
    {
     "data": {
      "text/plain": [
       "-0.018472404298166545"
      ]
     },
     "execution_count": 237,
     "metadata": {},
     "output_type": "execute_result"
    }
   ],
   "source": [
    "lr = LinearRegression(fit_intercept=False)\n",
    "lr.fit(dfX, dfy)\n",
    "# lr.predict(dfX)\n",
    "lr.score(dfX, dfy)\n",
    "# print(lr.score(dfX_test, dfy_test))"
   ]
  },
  {
   "cell_type": "markdown",
   "id": "united-arena",
   "metadata": {},
   "source": [
    "### Statsmodel 활용"
   ]
  },
  {
   "cell_type": "code",
   "execution_count": 233,
   "id": "thermal-analyst",
   "metadata": {
    "ExecuteTime": {
     "end_time": "2021-12-01T04:35:44.759949Z",
     "start_time": "2021-12-01T04:35:44.729377Z"
    }
   },
   "outputs": [
    {
     "name": "stdout",
     "output_type": "stream",
     "text": [
      "                            OLS Regression Results                            \n",
      "==============================================================================\n",
      "Dep. Variable:                  RAR_Q   R-squared:                       0.127\n",
      "Model:                            OLS   Adj. R-squared:                  0.124\n",
      "Method:                 Least Squares   F-statistic:                     43.01\n",
      "Date:                Wed, 01 Dec 2021   Prob (F-statistic):           3.06e-49\n",
      "Time:                        13:35:44   Log-Likelihood:                -4291.2\n",
      "No. Observations:                1783   AIC:                             8596.\n",
      "Df Residuals:                    1776   BIC:                             8635.\n",
      "Df Model:                           6                                         \n",
      "Covariance Type:            nonrobust                                         \n",
      "==============================================================================\n",
      "                 coef    std err          t      P>|t|      [0.025      0.975]\n",
      "------------------------------------------------------------------------------\n",
      "const          3.0738      0.179     17.194      0.000       2.723       3.424\n",
      "BPR_Q          0.1432      0.044      3.219      0.001       0.056       0.230\n",
      "EPR_Q          0.1447      0.027      5.438      0.000       0.093       0.197\n",
      "SPR_Q          0.0273      0.049      0.560      0.576      -0.068       0.123\n",
      "CPR_Q          0.1398      0.029      4.761      0.000       0.082       0.197\n",
      "SPPR_Q        -0.0131      0.037     -0.351      0.726      -0.087       0.060\n",
      "시가총액_Q        -0.1250      0.024     -5.199      0.000      -0.172      -0.078\n",
      "==============================================================================\n",
      "Omnibus:                      305.450   Durbin-Watson:                   1.965\n",
      "Prob(Omnibus):                  0.000   Jarque-Bera (JB):               77.892\n",
      "Skew:                           0.199   Prob(JB):                     1.22e-17\n",
      "Kurtosis:                       2.057   Cond. No.                         34.0\n",
      "==============================================================================\n",
      "\n",
      "Notes:\n",
      "[1] Standard Errors assume that the covariance matrix of the errors is correctly specified.\n"
     ]
    }
   ],
   "source": [
    "dfy = dfBlankAll_modi_lastperiod['RAR_Q']\n",
    "dfX = dfBlankAll_modi_lastperiod[['BPR_Q','EPR_Q','SPR_Q','CPR_Q','SPPR_Q','시가총액_Q']]\n",
    "dfX_ = sm.add_constant(dfX)\n",
    "model = sm.OLS(dfy, dfX_)\n",
    "\n",
    "result = model.fit()\n",
    "print(result.summary())"
   ]
  },
  {
   "cell_type": "code",
   "execution_count": 137,
   "id": "fuzzy-holocaust",
   "metadata": {
    "ExecuteTime": {
     "end_time": "2021-12-01T02:49:08.190559Z",
     "start_time": "2021-12-01T02:49:08.185557Z"
    }
   },
   "outputs": [],
   "source": [
    "dfY['RAR_Predict'] = result.predict(dfX)"
   ]
  },
  {
   "cell_type": "code",
   "execution_count": 140,
   "id": "varying-belfast",
   "metadata": {
    "ExecuteTime": {
     "end_time": "2021-12-01T02:49:52.783646Z",
     "start_time": "2021-12-01T02:49:52.624749Z"
    }
   },
   "outputs": [
    {
     "data": {
      "text/plain": [
       "<matplotlib.axes._subplots.AxesSubplot at 0x1e237acd370>"
      ]
     },
     "execution_count": 140,
     "metadata": {},
     "output_type": "execute_result"
    },
    {
     "data": {
      "image/png": "[encoded data removed]",
      "text/plain": [
       "<Figure size 432x288 with 1 Axes>"
      ]
     },
     "metadata": {
      "needs_background": "light"
     },
     "output_type": "display_data"
    }
   ],
   "source": [
    "dfY['RAR_Q'].plot(kind='hist')"
   ]
  },
  {
   "cell_type": "code",
   "execution_count": 139,
   "id": "trained-nomination",
   "metadata": {
    "ExecuteTime": {
     "end_time": "2021-12-01T02:49:30.102478Z",
     "start_time": "2021-12-01T02:49:30.083475Z"
    }
   },
   "outputs": [
    {
     "data": {
      "text/plain": [
       "9294     2.689321\n",
       "9295     2.479140\n",
       "9296     1.550348\n",
       "9297     2.285377\n",
       "9300     1.623985\n",
       "           ...   \n",
       "11600    1.478192\n",
       "11610    1.478192\n",
       "11648    1.824268\n",
       "11649    1.758226\n",
       "11656    1.352379\n",
       "Length: 1783, dtype: float64"
      ]
     },
     "execution_count": 139,
     "metadata": {},
     "output_type": "execute_result"
    }
   ],
   "source": [
    "result.predict(dfX)"
   ]
  },
  {
   "cell_type": "code",
   "execution_count": 111,
   "id": "invisible-adjustment",
   "metadata": {
    "ExecuteTime": {
     "end_time": "2021-12-01T02:42:14.239907Z",
     "start_time": "2021-12-01T02:42:14.230909Z"
    }
   },
   "outputs": [],
   "source": [
    "dfY['Gap'] = dfY['RAR_Predict'] - dfY['RAR_Q']"
   ]
  },
  {
   "cell_type": "code",
   "execution_count": 143,
   "id": "alternate-middle",
   "metadata": {
    "ExecuteTime": {
     "end_time": "2021-12-01T02:50:09.912279Z",
     "start_time": "2021-12-01T02:50:09.755216Z"
    }
   },
   "outputs": [
    {
     "data": {
      "text/plain": [
       "<matplotlib.axes._subplots.AxesSubplot at 0x1e25ae477c0>"
      ]
     },
     "execution_count": 143,
     "metadata": {},
     "output_type": "execute_result"
    },
    {
     "data": {
      "image/png": "[encoded data removed]",
      "text/plain": [
       "<Figure size 432x288 with 1 Axes>"
      ]
     },
     "metadata": {
      "needs_background": "light"
     },
     "output_type": "display_data"
    }
   ],
   "source": [
    "dfY[dfY.RAR_Predict > 4]['RAR_Q'].plot(kind='hist')"
   ]
  },
  {
   "cell_type": "code",
   "execution_count": 113,
   "id": "informational-scanner",
   "metadata": {
    "ExecuteTime": {
     "end_time": "2021-12-01T02:42:48.560951Z",
     "start_time": "2021-12-01T02:42:48.406940Z"
    }
   },
   "outputs": [
    {
     "data": {
      "text/plain": [
       "<matplotlib.axes._subplots.AxesSubplot at 0x1e25ae98460>"
      ]
     },
     "execution_count": 113,
     "metadata": {},
     "output_type": "execute_result"
    },
    {
     "data": {
      "image/png": "[encoded data removed]",
      "text/plain": [
       "<Figure size 432x288 with 1 Axes>"
      ]
     },
     "metadata": {
      "needs_background": "light"
     },
     "output_type": "display_data"
    }
   ],
   "source": [
    "dfY['Gap'].plot(kind='hist')"
   ]
  },
  {
   "cell_type": "code",
   "execution_count": 57,
   "id": "educated-visibility",
   "metadata": {
    "ExecuteTime": {
     "end_time": "2021-12-01T01:29:51.142747Z",
     "start_time": "2021-12-01T01:29:51.135089Z"
    }
   },
   "outputs": [],
   "source": []
  }
 ],
 "metadata": {
  "kernelspec": {
   "display_name": "Python 3 (ipykernel)",
   "language": "python",
   "name": "python3"
  },
  "language_info": {
   "codemirror_mode": {
    "name": "ipython",
    "version": 3
   },
   "file_extension": ".py",
   "mimetype": "text/x-python",
   "name": "python",
   "nbconvert_exporter": "python",
   "pygments_lexer": "ipython3",
   "version": "3.8.12"
  },
  "toc": {
   "base_numbering": 1,
   "nav_menu": {},
   "number_sections": true,
   "sideBar": true,
   "skip_h1_title": false,
   "title_cell": "Table of Contents",
   "title_sidebar": "Contents",
   "toc_cell": false,
   "toc_position": {},
   "toc_section_display": true,
   "toc_window_display": false
  },
  "varInspector": {
   "cols": {
    "lenName": 16,
    "lenType": 16,
    "lenVar": 40
   },
   "kernels_config": {
    "python": {
     "delete_cmd_postfix": "",
     "delete_cmd_prefix": "del ",
     "library": "var_list.py",
     "varRefreshCmd": "print(var_dic_list())"
    },
    "r": {
     "delete_cmd_postfix": ") ",
     "delete_cmd_prefix": "rm(",
     "library": "var_list.r",
     "varRefreshCmd": "cat(var_dic_list()) "
    }
   },
   "types_to_exclude": [
    "module",
    "function",
    "builtin_function_or_method",
    "instance",
    "_Feature"
   ],
   "window_display": false
  }
 },
 "nbformat": 4,
 "nbformat_minor": 5
}
