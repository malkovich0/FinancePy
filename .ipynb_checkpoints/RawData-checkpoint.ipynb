{
 "cells": [
  {
   "cell_type": "markdown",
   "id": "agricultural-description",
   "metadata": {},
   "source": [
    "종목별로 자료형을 만든 다음에 값을 채워넣기\n",
    "stock_code, period, category1 (kospi/kosdaq), category2 (업종), 시가총액, 상장주식수, 총자산, 현금, 부채, 지배자산, 매출Y, 매출원가Y, 매출총이익Y, 판관비Y, 영업이익Y, 당기순이익Y, 지배순이익Y, 각각Q, 영업활동현금흐름Y, 각각Q.\n",
    "\n",
    "→ stock_code와 period를 index로 만들어서 각각의 iat을 활용하여 값 넣기.\n",
    "\n",
    "`dataframe.set_index(Column_name,inplace = True)`\n",
    "\n",
    "df.**reset_index().rename(columns={\"index\": \"id\"})**"
   ]
  },
  {
   "cell_type": "code",
   "execution_count": 1,
   "id": "aware-gathering",
   "metadata": {
    "ExecuteTime": {
     "end_time": "2021-11-10T13:50:47.318550Z",
     "start_time": "2021-11-10T13:50:46.114243Z"
    }
   },
   "outputs": [],
   "source": [
    "from pykrx import stock\n",
    "import pandas as pd\n",
    "from datetime import datetime\n",
    "import pickle"
   ]
  },
  {
   "cell_type": "markdown",
   "id": "analyzed-dutch",
   "metadata": {},
   "source": [
    "# 빈 테이블 만들기"
   ]
  },
  {
   "cell_type": "code",
   "execution_count": 2,
   "id": "residential-dietary",
   "metadata": {
    "ExecuteTime": {
     "end_time": "2021-11-10T13:51:37.770018Z",
     "start_time": "2021-11-10T13:51:37.756957Z"
    }
   },
   "outputs": [],
   "source": [
    "date = datetime(2021,5,15)\n",
    "# kospi_list = stock.get_market_ticker_list(date, market='KOSPI')\n",
    "# kosdaq_list = stock.get_market_ticker_list(date, market='KOSDAQ')"
   ]
  },
  {
   "cell_type": "code",
   "execution_count": 3,
   "id": "hydraulic-intention",
   "metadata": {
    "ExecuteTime": {
     "end_time": "2021-11-10T13:51:42.447473Z",
     "start_time": "2021-11-10T13:51:40.819556Z"
    }
   },
   "outputs": [],
   "source": [
    "market_cap_kospi = stock.get_market_cap_by_ticker(date=date, market='KOSPI')\n",
    "market_cap_kosdaq = stock.get_market_cap_by_ticker(date=date, market='KOSDAQ')\n",
    "# 여기에는 상장폐지 종목은 포함되지 않는듯."
   ]
  },
  {
   "cell_type": "code",
   "execution_count": 4,
   "id": "interim-portland",
   "metadata": {
    "ExecuteTime": {
     "end_time": "2021-11-10T13:51:45.874046Z",
     "start_time": "2021-11-10T13:51:45.869044Z"
    }
   },
   "outputs": [],
   "source": [
    "listColumns = ['stock_code','period','category1','category2','시가총액','상장주식수','총자산','현금','부채','지배자산',\n",
    "              '매출액Y','매출원가Y','매출총이익Y','판관비Y','영업이익Y','당기순이익Y','지배순이익Y','영업활동현금흐름Y',\n",
    "              '매출액Q','매출원가Q','매출총이익Q','판관비Q','영업이익Q','당기순이익Q','지배순이익Q','영업활동현금흐름Q']"
   ]
  },
  {
   "cell_type": "code",
   "execution_count": 5,
   "id": "clinical-operation",
   "metadata": {
    "ExecuteTime": {
     "end_time": "2021-11-10T13:52:14.173298Z",
     "start_time": "2021-11-10T13:52:14.142209Z"
    }
   },
   "outputs": [],
   "source": [
    "dfBlank = pd.DataFrame(columns = listColumns)\n",
    "dfBlank['stock_code']= list(market_cap_kospi.index) + list(market_cap_kosdaq.index)\n",
    "dfBlank['period'] = 202103\n",
    "dfBlank['category1'] = ['kospi']*len(market_cap_kospi) + ['kosdaq']*len(market_cap_kosdaq)\n",
    "dfBlank['시가총액'] = list(market_cap_kospi['시가총액']) + list(market_cap_kosdaq['시가총액'])\n",
    "dfBlank['상장주식수'] = list(market_cap_kospi['상장주식수']) + list(market_cap_kosdaq['상장주식수'])"
   ]
  },
  {
   "cell_type": "code",
   "execution_count": 6,
   "id": "pleased-cleveland",
   "metadata": {
    "ExecuteTime": {
     "end_time": "2021-11-10T13:52:17.388171Z",
     "start_time": "2021-11-10T13:52:17.339501Z"
    }
   },
   "outputs": [
    {
     "data": {
      "text/html": [
       "<div>\n",
       "<style scoped>\n",
       "    .dataframe tbody tr th:only-of-type {\n",
       "        vertical-align: middle;\n",
       "    }\n",
       "\n",
       "    .dataframe tbody tr th {\n",
       "        vertical-align: top;\n",
       "    }\n",
       "\n",
       "    .dataframe thead th {\n",
       "        text-align: right;\n",
       "    }\n",
       "</style>\n",
       "<table border=\"1\" class=\"dataframe\">\n",
       "  <thead>\n",
       "    <tr style=\"text-align: right;\">\n",
       "      <th></th>\n",
       "      <th>stock_code</th>\n",
       "      <th>period</th>\n",
       "      <th>category1</th>\n",
       "      <th>category2</th>\n",
       "      <th>시가총액</th>\n",
       "      <th>상장주식수</th>\n",
       "      <th>총자산</th>\n",
       "      <th>현금</th>\n",
       "      <th>부채</th>\n",
       "      <th>지배자산</th>\n",
       "      <th>...</th>\n",
       "      <th>지배순이익Y</th>\n",
       "      <th>영업활동현금흐름Y</th>\n",
       "      <th>매출액Q</th>\n",
       "      <th>매출원가Q</th>\n",
       "      <th>매출총이익Q</th>\n",
       "      <th>판관비Q</th>\n",
       "      <th>영업이익Q</th>\n",
       "      <th>당기순이익Q</th>\n",
       "      <th>지배순이익Q</th>\n",
       "      <th>영업활동현금흐름Q</th>\n",
       "    </tr>\n",
       "  </thead>\n",
       "  <tbody>\n",
       "    <tr>\n",
       "      <th>0</th>\n",
       "      <td>005930</td>\n",
       "      <td>202103</td>\n",
       "      <td>kospi</td>\n",
       "      <td>NaN</td>\n",
       "      <td>478179582255000</td>\n",
       "      <td>5969782550</td>\n",
       "      <td>NaN</td>\n",
       "      <td>NaN</td>\n",
       "      <td>NaN</td>\n",
       "      <td>NaN</td>\n",
       "      <td>...</td>\n",
       "      <td>NaN</td>\n",
       "      <td>NaN</td>\n",
       "      <td>NaN</td>\n",
       "      <td>NaN</td>\n",
       "      <td>NaN</td>\n",
       "      <td>NaN</td>\n",
       "      <td>NaN</td>\n",
       "      <td>NaN</td>\n",
       "      <td>NaN</td>\n",
       "      <td>NaN</td>\n",
       "    </tr>\n",
       "    <tr>\n",
       "      <th>1</th>\n",
       "      <td>000660</td>\n",
       "      <td>202103</td>\n",
       "      <td>kospi</td>\n",
       "      <td>NaN</td>\n",
       "      <td>86268280252500</td>\n",
       "      <td>728002365</td>\n",
       "      <td>NaN</td>\n",
       "      <td>NaN</td>\n",
       "      <td>NaN</td>\n",
       "      <td>NaN</td>\n",
       "      <td>...</td>\n",
       "      <td>NaN</td>\n",
       "      <td>NaN</td>\n",
       "      <td>NaN</td>\n",
       "      <td>NaN</td>\n",
       "      <td>NaN</td>\n",
       "      <td>NaN</td>\n",
       "      <td>NaN</td>\n",
       "      <td>NaN</td>\n",
       "      <td>NaN</td>\n",
       "      <td>NaN</td>\n",
       "    </tr>\n",
       "    <tr>\n",
       "      <th>2</th>\n",
       "      <td>207940</td>\n",
       "      <td>202103</td>\n",
       "      <td>kospi</td>\n",
       "      <td>NaN</td>\n",
       "      <td>62724420000000</td>\n",
       "      <td>66165000</td>\n",
       "      <td>NaN</td>\n",
       "      <td>NaN</td>\n",
       "      <td>NaN</td>\n",
       "      <td>NaN</td>\n",
       "      <td>...</td>\n",
       "      <td>NaN</td>\n",
       "      <td>NaN</td>\n",
       "      <td>NaN</td>\n",
       "      <td>NaN</td>\n",
       "      <td>NaN</td>\n",
       "      <td>NaN</td>\n",
       "      <td>NaN</td>\n",
       "      <td>NaN</td>\n",
       "      <td>NaN</td>\n",
       "      <td>NaN</td>\n",
       "    </tr>\n",
       "    <tr>\n",
       "      <th>3</th>\n",
       "      <td>005935</td>\n",
       "      <td>202103</td>\n",
       "      <td>kospi</td>\n",
       "      <td>NaN</td>\n",
       "      <td>60811327130000</td>\n",
       "      <td>822886700</td>\n",
       "      <td>NaN</td>\n",
       "      <td>NaN</td>\n",
       "      <td>NaN</td>\n",
       "      <td>NaN</td>\n",
       "      <td>...</td>\n",
       "      <td>NaN</td>\n",
       "      <td>NaN</td>\n",
       "      <td>NaN</td>\n",
       "      <td>NaN</td>\n",
       "      <td>NaN</td>\n",
       "      <td>NaN</td>\n",
       "      <td>NaN</td>\n",
       "      <td>NaN</td>\n",
       "      <td>NaN</td>\n",
       "      <td>NaN</td>\n",
       "    </tr>\n",
       "    <tr>\n",
       "      <th>4</th>\n",
       "      <td>051910</td>\n",
       "      <td>202103</td>\n",
       "      <td>kospi</td>\n",
       "      <td>NaN</td>\n",
       "      <td>60285860922000</td>\n",
       "      <td>70592343</td>\n",
       "      <td>NaN</td>\n",
       "      <td>NaN</td>\n",
       "      <td>NaN</td>\n",
       "      <td>NaN</td>\n",
       "      <td>...</td>\n",
       "      <td>NaN</td>\n",
       "      <td>NaN</td>\n",
       "      <td>NaN</td>\n",
       "      <td>NaN</td>\n",
       "      <td>NaN</td>\n",
       "      <td>NaN</td>\n",
       "      <td>NaN</td>\n",
       "      <td>NaN</td>\n",
       "      <td>NaN</td>\n",
       "      <td>NaN</td>\n",
       "    </tr>\n",
       "    <tr>\n",
       "      <th>...</th>\n",
       "      <td>...</td>\n",
       "      <td>...</td>\n",
       "      <td>...</td>\n",
       "      <td>...</td>\n",
       "      <td>...</td>\n",
       "      <td>...</td>\n",
       "      <td>...</td>\n",
       "      <td>...</td>\n",
       "      <td>...</td>\n",
       "      <td>...</td>\n",
       "      <td>...</td>\n",
       "      <td>...</td>\n",
       "      <td>...</td>\n",
       "      <td>...</td>\n",
       "      <td>...</td>\n",
       "      <td>...</td>\n",
       "      <td>...</td>\n",
       "      <td>...</td>\n",
       "      <td>...</td>\n",
       "      <td>...</td>\n",
       "      <td>...</td>\n",
       "    </tr>\n",
       "    <tr>\n",
       "      <th>2419</th>\n",
       "      <td>347140</td>\n",
       "      <td>202103</td>\n",
       "      <td>kosdaq</td>\n",
       "      <td>NaN</td>\n",
       "      <td>6785295000</td>\n",
       "      <td>3009000</td>\n",
       "      <td>NaN</td>\n",
       "      <td>NaN</td>\n",
       "      <td>NaN</td>\n",
       "      <td>NaN</td>\n",
       "      <td>...</td>\n",
       "      <td>NaN</td>\n",
       "      <td>NaN</td>\n",
       "      <td>NaN</td>\n",
       "      <td>NaN</td>\n",
       "      <td>NaN</td>\n",
       "      <td>NaN</td>\n",
       "      <td>NaN</td>\n",
       "      <td>NaN</td>\n",
       "      <td>NaN</td>\n",
       "      <td>NaN</td>\n",
       "    </tr>\n",
       "    <tr>\n",
       "      <th>2420</th>\n",
       "      <td>080440</td>\n",
       "      <td>202103</td>\n",
       "      <td>kosdaq</td>\n",
       "      <td>NaN</td>\n",
       "      <td>6636328080</td>\n",
       "      <td>13325960</td>\n",
       "      <td>NaN</td>\n",
       "      <td>NaN</td>\n",
       "      <td>NaN</td>\n",
       "      <td>NaN</td>\n",
       "      <td>...</td>\n",
       "      <td>NaN</td>\n",
       "      <td>NaN</td>\n",
       "      <td>NaN</td>\n",
       "      <td>NaN</td>\n",
       "      <td>NaN</td>\n",
       "      <td>NaN</td>\n",
       "      <td>NaN</td>\n",
       "      <td>NaN</td>\n",
       "      <td>NaN</td>\n",
       "      <td>NaN</td>\n",
       "    </tr>\n",
       "    <tr>\n",
       "      <th>2421</th>\n",
       "      <td>373340</td>\n",
       "      <td>202103</td>\n",
       "      <td>kosdaq</td>\n",
       "      <td>NaN</td>\n",
       "      <td>6583600000</td>\n",
       "      <td>3020000</td>\n",
       "      <td>NaN</td>\n",
       "      <td>NaN</td>\n",
       "      <td>NaN</td>\n",
       "      <td>NaN</td>\n",
       "      <td>...</td>\n",
       "      <td>NaN</td>\n",
       "      <td>NaN</td>\n",
       "      <td>NaN</td>\n",
       "      <td>NaN</td>\n",
       "      <td>NaN</td>\n",
       "      <td>NaN</td>\n",
       "      <td>NaN</td>\n",
       "      <td>NaN</td>\n",
       "      <td>NaN</td>\n",
       "      <td>NaN</td>\n",
       "    </tr>\n",
       "    <tr>\n",
       "      <th>2422</th>\n",
       "      <td>158310</td>\n",
       "      <td>202103</td>\n",
       "      <td>kosdaq</td>\n",
       "      <td>NaN</td>\n",
       "      <td>6096179210</td>\n",
       "      <td>12071642</td>\n",
       "      <td>NaN</td>\n",
       "      <td>NaN</td>\n",
       "      <td>NaN</td>\n",
       "      <td>NaN</td>\n",
       "      <td>...</td>\n",
       "      <td>NaN</td>\n",
       "      <td>NaN</td>\n",
       "      <td>NaN</td>\n",
       "      <td>NaN</td>\n",
       "      <td>NaN</td>\n",
       "      <td>NaN</td>\n",
       "      <td>NaN</td>\n",
       "      <td>NaN</td>\n",
       "      <td>NaN</td>\n",
       "      <td>NaN</td>\n",
       "    </tr>\n",
       "    <tr>\n",
       "      <th>2423</th>\n",
       "      <td>032685</td>\n",
       "      <td>202103</td>\n",
       "      <td>kosdaq</td>\n",
       "      <td>NaN</td>\n",
       "      <td>5714280000</td>\n",
       "      <td>142857</td>\n",
       "      <td>NaN</td>\n",
       "      <td>NaN</td>\n",
       "      <td>NaN</td>\n",
       "      <td>NaN</td>\n",
       "      <td>...</td>\n",
       "      <td>NaN</td>\n",
       "      <td>NaN</td>\n",
       "      <td>NaN</td>\n",
       "      <td>NaN</td>\n",
       "      <td>NaN</td>\n",
       "      <td>NaN</td>\n",
       "      <td>NaN</td>\n",
       "      <td>NaN</td>\n",
       "      <td>NaN</td>\n",
       "      <td>NaN</td>\n",
       "    </tr>\n",
       "  </tbody>\n",
       "</table>\n",
       "<p>2424 rows × 26 columns</p>\n",
       "</div>"
      ],
      "text/plain": [
       "     stock_code  period category1 category2             시가총액       상장주식수  총자산  \\\n",
       "0        005930  202103     kospi       NaN  478179582255000  5969782550  NaN   \n",
       "1        000660  202103     kospi       NaN   86268280252500   728002365  NaN   \n",
       "2        207940  202103     kospi       NaN   62724420000000    66165000  NaN   \n",
       "3        005935  202103     kospi       NaN   60811327130000   822886700  NaN   \n",
       "4        051910  202103     kospi       NaN   60285860922000    70592343  NaN   \n",
       "...         ...     ...       ...       ...              ...         ...  ...   \n",
       "2419     347140  202103    kosdaq       NaN       6785295000     3009000  NaN   \n",
       "2420     080440  202103    kosdaq       NaN       6636328080    13325960  NaN   \n",
       "2421     373340  202103    kosdaq       NaN       6583600000     3020000  NaN   \n",
       "2422     158310  202103    kosdaq       NaN       6096179210    12071642  NaN   \n",
       "2423     032685  202103    kosdaq       NaN       5714280000      142857  NaN   \n",
       "\n",
       "       현금   부채 지배자산  ... 지배순이익Y 영업활동현금흐름Y 매출액Q 매출원가Q 매출총이익Q 판관비Q 영업이익Q 당기순이익Q  \\\n",
       "0     NaN  NaN  NaN  ...    NaN       NaN  NaN   NaN    NaN  NaN   NaN    NaN   \n",
       "1     NaN  NaN  NaN  ...    NaN       NaN  NaN   NaN    NaN  NaN   NaN    NaN   \n",
       "2     NaN  NaN  NaN  ...    NaN       NaN  NaN   NaN    NaN  NaN   NaN    NaN   \n",
       "3     NaN  NaN  NaN  ...    NaN       NaN  NaN   NaN    NaN  NaN   NaN    NaN   \n",
       "4     NaN  NaN  NaN  ...    NaN       NaN  NaN   NaN    NaN  NaN   NaN    NaN   \n",
       "...   ...  ...  ...  ...    ...       ...  ...   ...    ...  ...   ...    ...   \n",
       "2419  NaN  NaN  NaN  ...    NaN       NaN  NaN   NaN    NaN  NaN   NaN    NaN   \n",
       "2420  NaN  NaN  NaN  ...    NaN       NaN  NaN   NaN    NaN  NaN   NaN    NaN   \n",
       "2421  NaN  NaN  NaN  ...    NaN       NaN  NaN   NaN    NaN  NaN   NaN    NaN   \n",
       "2422  NaN  NaN  NaN  ...    NaN       NaN  NaN   NaN    NaN  NaN   NaN    NaN   \n",
       "2423  NaN  NaN  NaN  ...    NaN       NaN  NaN   NaN    NaN  NaN   NaN    NaN   \n",
       "\n",
       "     지배순이익Q 영업활동현금흐름Q  \n",
       "0       NaN       NaN  \n",
       "1       NaN       NaN  \n",
       "2       NaN       NaN  \n",
       "3       NaN       NaN  \n",
       "4       NaN       NaN  \n",
       "...     ...       ...  \n",
       "2419    NaN       NaN  \n",
       "2420    NaN       NaN  \n",
       "2421    NaN       NaN  \n",
       "2422    NaN       NaN  \n",
       "2423    NaN       NaN  \n",
       "\n",
       "[2424 rows x 26 columns]"
      ]
     },
     "execution_count": 6,
     "metadata": {},
     "output_type": "execute_result"
    }
   ],
   "source": [
    "dfBlank"
   ]
  },
  {
   "cell_type": "markdown",
   "id": "explicit-scanning",
   "metadata": {},
   "source": [
    "# DartAPI 자료 활용하여 값 넣기"
   ]
  },
  {
   "cell_type": "code",
   "execution_count": 7,
   "id": "intellectual-segment",
   "metadata": {
    "ExecuteTime": {
     "end_time": "2021-11-10T13:52:41.971938Z",
     "start_time": "2021-11-10T13:52:41.959062Z"
    }
   },
   "outputs": [],
   "source": [
    "value_dict = {'총자산':'ifrs-full_Assets', '현금':'ifrs-full_CashAndCashEquivalents',\n",
    "              '부채':'ifrs-full_Liabilities','지배자산':'ifrs-full_EquityAttributableToOwnersOfParent',\n",
    "             '매출액':'ifrs-full_Revenue', '매출원가':'ifrs-full_CostOfSales', \n",
    "              '매출총이익':'ifrs-full_GrossProfit', '판관비':'dart_TotalSellingGeneralAdministrativeExpenses',\n",
    "              '영업이익':'dart_OperatingIncomeLoss','계속영업이익':'ifrs-full_ProfitLossFromContinuingOperations',\n",
    "              '당기순이익':'ifrs-full_ProfitLoss', '지배순이익':'ifrs-full_ProfitLossAttributableToOwnersOfParent',\n",
    "             '영업활동현금흐름':'ifrs-full_CashFlowsFromUsedInOperatingActivities'}"
   ]
  },
  {
   "cell_type": "code",
   "execution_count": 70,
   "id": "engaged-karma",
   "metadata": {
    "ExecuteTime": {
     "end_time": "2021-11-10T14:36:01.148932Z",
     "start_time": "2021-11-10T14:36:00.245338Z"
    }
   },
   "outputs": [],
   "source": [
    "with open('Raw_Finance/dartAPI/202103.pickle','rb') as handle:\n",
    "    cases = pickle.load(handle)"
   ]
  },
  {
   "cell_type": "code",
   "execution_count": 71,
   "id": "raised-reunion",
   "metadata": {
    "ExecuteTime": {
     "end_time": "2021-11-10T14:36:31.042453Z",
     "start_time": "2021-11-10T14:36:30.684630Z"
    }
   },
   "outputs": [],
   "source": [
    "cases['period']=202103\n",
    "cases.set_index(keys=['stock_code','period','account_id'],inplace=True)"
   ]
  },
  {
   "cell_type": "code",
   "execution_count": 12,
   "id": "fewer-norman",
   "metadata": {
    "ExecuteTime": {
     "end_time": "2021-11-10T13:55:22.349886Z",
     "start_time": "2021-11-10T13:55:22.326408Z"
    }
   },
   "outputs": [],
   "source": [
    "dfBlank.set_index(keys=['stock_code','period'],inplace=True)"
   ]
  },
  {
   "cell_type": "code",
   "execution_count": 15,
   "id": "mineral-disability",
   "metadata": {
    "ExecuteTime": {
     "end_time": "2021-11-10T13:57:07.171566Z",
     "start_time": "2021-11-10T13:57:07.163220Z"
    }
   },
   "outputs": [],
   "source": [
    "index_value = dfBlank.index[0]\n",
    "nameValue = '총자산'\n",
    "dfBlank.at[index_value,nameValue] = 1"
   ]
  },
  {
   "cell_type": "code",
   "execution_count": 86,
   "id": "unlimited-porter",
   "metadata": {
    "ExecuteTime": {
     "end_time": "2021-11-10T14:39:33.824093Z",
     "start_time": "2021-11-10T14:39:33.812459Z"
    }
   },
   "outputs": [
    {
     "name": "stderr",
     "output_type": "stream",
     "text": [
      "C:\\Users\\malko\\anaconda3\\envs\\py38_64\\lib\\site-packages\\pandas\\core\\indexing.py:889: PerformanceWarning: indexing past lexsort depth may impact performance.\n",
      "  return self._getitem_tuple(key)\n"
     ]
    },
    {
     "data": {
      "text/plain": [
       "'392826274000000'"
      ]
     },
     "execution_count": 86,
     "metadata": {},
     "output_type": "execute_result"
    }
   ],
   "source": [
    "cases.loc[index_value+(value_dict[nameValue],),'thstrm_amount'][0]"
   ]
  },
  {
   "cell_type": "code",
   "execution_count": 58,
   "id": "chemical-trouble",
   "metadata": {
    "ExecuteTime": {
     "end_time": "2021-11-10T14:22:54.282676Z",
     "start_time": "2021-11-10T14:22:54.274383Z"
    }
   },
   "outputs": [],
   "source": []
  },
  {
   "cell_type": "code",
   "execution_count": 59,
   "id": "danish-comment",
   "metadata": {
    "ExecuteTime": {
     "end_time": "2021-11-10T14:22:58.865164Z",
     "start_time": "2021-11-10T14:22:58.707416Z"
    }
   },
   "outputs": [],
   "source": []
  }
 ],
 "metadata": {
  "kernelspec": {
   "display_name": "py38_64",
   "language": "python",
   "name": "py38_64"
  },
  "language_info": {
   "codemirror_mode": {
    "name": "ipython",
    "version": 3
   },
   "file_extension": ".py",
   "mimetype": "text/x-python",
   "name": "python",
   "nbconvert_exporter": "python",
   "pygments_lexer": "ipython3",
   "version": "3.8.8"
  },
  "toc": {
   "base_numbering": 1,
   "nav_menu": {},
   "number_sections": true,
   "sideBar": true,
   "skip_h1_title": false,
   "title_cell": "Table of Contents",
   "title_sidebar": "Contents",
   "toc_cell": false,
   "toc_position": {},
   "toc_section_display": true,
   "toc_window_display": false
  },
  "varInspector": {
   "cols": {
    "lenName": 16,
    "lenType": 16,
    "lenVar": 40
   },
   "kernels_config": {
    "python": {
     "delete_cmd_postfix": "",
     "delete_cmd_prefix": "del ",
     "library": "var_list.py",
     "varRefreshCmd": "print(var_dic_list())"
    },
    "r": {
     "delete_cmd_postfix": ") ",
     "delete_cmd_prefix": "rm(",
     "library": "var_list.r",
     "varRefreshCmd": "cat(var_dic_list()) "
    }
   },
   "types_to_exclude": [
    "module",
    "function",
    "builtin_function_or_method",
    "instance",
    "_Feature"
   ],
   "window_display": false
  }
 },
 "nbformat": 4,
 "nbformat_minor": 5
}
