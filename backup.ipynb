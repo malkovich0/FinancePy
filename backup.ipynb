{
 "cells": [
  {
   "cell_type": "markdown",
   "id": "sorted-evidence",
   "metadata": {},
   "source": [
    "# 네이버 증권 자료 다운받기"
   ]
  },
  {
   "cell_type": "code",
   "execution_count": null,
   "id": "peaceful-duration",
   "metadata": {},
   "outputs": [],
   "source": []
  },
  {
   "cell_type": "markdown",
   "id": "small-illustration",
   "metadata": {
    "ExecuteTime": {
     "end_time": "2021-09-07T06:28:18.871853Z",
     "start_time": "2021-09-07T06:28:18.856871Z"
    }
   },
   "source": [
    "# dart 자료와 네이버 증권 자료 병합하기"
   ]
  },
  {
   "cell_type": "code",
   "execution_count": null,
   "id": "coral-convergence",
   "metadata": {},
   "outputs": [],
   "source": [
    "# dart 자료에서 특정 index삭제하여 2021 분기 자료 삭제\n",
    "f=case.finance\n",
    "f.reset_index(drop=True,inplace=True)\n",
    "indexName = f[f['period']==202109].index\n",
    "f.drop(indexName,inplace=True)"
   ]
  },
  {
   "cell_type": "code",
   "execution_count": null,
   "id": "official-tribe",
   "metadata": {},
   "outputs": [],
   "source": [
    "# 분기 자료에 단위 맞춰서 더하고 저장하기\n",
    "with open('Raw_Finance/finance_naver_converted_202103.pickle', 'rb') as handle:\n",
    "    naver1 = pickle.load(handle)\n",
    "for col in naver1.columns[2:]:\n",
    "    naver1[col] = naver1[col]*100000000\n",
    "\n",
    "naver2 = case.finance_naver\n",
    "for col in naver2.columns[2:]:\n",
    "    naver2[col] = naver2[col]*100000000\n",
    "    \n",
    "finance = pd.concat([case.finance,naver1])\n",
    "finance = pd.concat([finance,naver2])\n",
    "finance.reset_index(drop=True,inplace=True)\n",
    "\n",
    "with open('Raw_Finance/finance_latest.pickle', 'wb') as handle:\n",
    "    pickle.dump(finance, handle, protocol=pickle.HIGHEST_PROTOCOL)"
   ]
  },
  {
   "cell_type": "markdown",
   "id": "robust-breathing",
   "metadata": {},
   "source": [
    "# 3 차원 그래프, 히트맵으로 성과 확인하기"
   ]
  },
  {
   "cell_type": "code",
   "execution_count": null,
   "id": "encouraging-shanghai",
   "metadata": {},
   "outputs": [],
   "source": [
    "AxisSell = []\n",
    "AxisBuy = []\n",
    "AxisCAGR = []\n",
    "AxisMDD = []\n",
    "AxisMAR = []\n",
    "AxisSharpe = []\n",
    "AxisnoOfTrade = []\n",
    "case.daysContinuous = 5\n",
    "for buy in range(10,61,5):\n",
    "    for sell in range(10,61,5):\n",
    "        test1 = case.applyTraidingStrategy(strategy=\"MAKosdaqContinuous\",daysForMABuy=buy,daysForMASell=sell)\n",
    "        AxisSell.append(sell)\n",
    "        AxisBuy.append(buy)\n",
    "        AxisnoOfTrade.append(case.noOfTrade)\n",
    "        result = case.simple_analyzer(test1)\n",
    "        AxisCAGR.append(result.at['CAGR','BuyMA'])\n",
    "        AxisMDD.append(result.at['MDD','BuyMA']*(-1))\n",
    "        AxisSharpe.append(result.at['Sharpe_Ratio','BuyMA'])\n",
    "        AxisMAR.append(result.at['CAGR','BuyMA'] / result.at['MDD','BuyMA']*(-1))"
   ]
  },
  {
   "cell_type": "code",
   "execution_count": null,
   "id": "happy-respect",
   "metadata": {},
   "outputs": [],
   "source": [
    "%matplotlib notebook\n",
    "from mpl_toolkits.mplot3d import Axes3D\n",
    "import matplotlib.pyplot as plt\n",
    "\n",
    "fig = plt.figure(figsize=(6, 6))\n",
    "ax = fig.add_subplot(111, projection='3d')\n",
    "ax.scatter(AxisBuy, AxisSell, AxisMAR, marker='o', s=15, cmap='Greens')\n",
    "plt.xlabel('Buy')\n",
    "plt.ylabel('Sell')\n",
    "plt.show()"
   ]
  },
  {
   "cell_type": "code",
   "execution_count": null,
   "id": "spectacular-delivery",
   "metadata": {},
   "outputs": [],
   "source": [
    "loss = 0.5  # 잦은 거래로 인한 손실\n",
    "AxisCAGRadjusted = [a*((1-loss/100)**(b/8.8+4)) for a,b in zip(AxisCAGR, AxisnoOfTrade)]\n",
    "df = pd.DataFrame({'buy':AxisBuy,'sell':AxisSell,'CAGR':AxisCAGR,'CAGRadj':AxisCAGRadjusted,'MDD':AxisMDD,'sharpe_ratio':AxisSharpe,\n",
    "                   'MAR':AxisMAR,'noOfTrade':AxisnoOfTrade})"
   ]
  },
  {
   "cell_type": "code",
   "execution_count": null,
   "id": "ethical-shift",
   "metadata": {},
   "outputs": [],
   "source": [
    "df = pd.DataFrame({'buy':AxisBuy,'sell':AxisSell,'CAGR':AxisCAGR,'MDD':AxisMDD,'sharpe_ratio':AxisSharpe,\n",
    "                   'MAR':AxisMAR,'noOfTrade':AxisnoOfTrade})\n",
    "import seaborn as sns\n",
    "import matplotlib.pyplot as plt\n",
    "for i in df.columns[2:]:\n",
    "    plt.figure(figsize=(7,7))\n",
    "    plt.title(i)\n",
    "    if i != 'noOfTrade':\n",
    "        sns.heatmap(data = df.pivot_table(index=df.columns[0],columns=df.columns[1],values=i), annot=True,fmt = '.2f', linewidths=.2, cmap='Blues')\n",
    "    else:\n",
    "        sns.heatmap(data = df.pivot_table(index=df.columns[0],columns=df.columns[1],values=i), annot=True,fmt = '.0f', linewidths=.2, cmap='Blues')\n",
    "    plt.savefig(f'image/{i}.png')"
   ]
  },
  {
   "cell_type": "markdown",
   "id": "strong-routine",
   "metadata": {},
   "source": [
    "# 거래빈도 검토"
   ]
  },
  {
   "cell_type": "code",
   "execution_count": null,
   "id": "permanent-theater",
   "metadata": {},
   "outputs": [],
   "source": [
    "listCount = []\n",
    "count = 1\n",
    "listSignal = list(test['MASignal'])\n",
    "for i in range(len(listSignal)-1):\n",
    "    if listSignal[i] == listSignal[i+1]:\n",
    "        count += 1\n",
    "    else:\n",
    "        listCount.append(count)\n",
    "        count = 1\n",
    "        \n",
    "import matplotlib.pyplot as plt\n",
    "D = dict(Counter(listCount).most_common())\n",
    "plt.bar(list(D.keys()), list(D.values()),align='edge')\n",
    "\n",
    "plt.plot(listCount)"
   ]
  }
 ],
 "metadata": {
  "kernelspec": {
   "display_name": "py38_64",
   "language": "python",
   "name": "py38_64"
  },
  "language_info": {
   "codemirror_mode": {
    "name": "ipython",
    "version": 3
   },
   "file_extension": ".py",
   "mimetype": "text/x-python",
   "name": "python",
   "nbconvert_exporter": "python",
   "pygments_lexer": "ipython3",
   "version": "3.8.8"
  },
  "toc": {
   "base_numbering": 1,
   "nav_menu": {},
   "number_sections": true,
   "sideBar": true,
   "skip_h1_title": false,
   "title_cell": "Table of Contents",
   "title_sidebar": "Contents",
   "toc_cell": false,
   "toc_position": {},
   "toc_section_display": true,
   "toc_window_display": false
  },
  "varInspector": {
   "cols": {
    "lenName": 16,
    "lenType": 16,
    "lenVar": 40
   },
   "kernels_config": {
    "python": {
     "delete_cmd_postfix": "",
     "delete_cmd_prefix": "del ",
     "library": "var_list.py",
     "varRefreshCmd": "print(var_dic_list())"
    },
    "r": {
     "delete_cmd_postfix": ") ",
     "delete_cmd_prefix": "rm(",
     "library": "var_list.r",
     "varRefreshCmd": "cat(var_dic_list()) "
    }
   },
   "types_to_exclude": [
    "module",
    "function",
    "builtin_function_or_method",
    "instance",
    "_Feature"
   ],
   "window_display": false
  }
 },
 "nbformat": 4,
 "nbformat_minor": 5
}
