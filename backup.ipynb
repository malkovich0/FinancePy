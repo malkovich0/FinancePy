{
 "cells": [
  {
   "cell_type": "markdown",
   "id": "necessary-casino",
   "metadata": {},
   "source": [
    "# 지주, 금융, 중국 종목 (제외 종목) 목록 만들기"
   ]
  },
  {
   "cell_type": "code",
   "execution_count": 3,
   "id": "introductory-embassy",
   "metadata": {
    "ExecuteTime": {
     "end_time": "2021-09-27T05:43:57.789671Z",
     "start_time": "2021-09-27T05:43:57.779175Z"
    }
   },
   "outputs": [],
   "source": [
    "import FinanceDataReader as fdr\n",
    "import pandas as pd\n",
    "import pickle"
   ]
  },
  {
   "cell_type": "code",
   "execution_count": 4,
   "id": "numerous-illness",
   "metadata": {
    "ExecuteTime": {
     "end_time": "2021-09-27T05:44:10.267560Z",
     "start_time": "2021-09-27T05:43:59.164418Z"
    }
   },
   "outputs": [],
   "source": [
    "df_kospi = fdr.StockListing('KOSPI')\n",
    "df_kosdaq = fdr.StockListing('KOSDAQ')\n",
    "# df_del = fdr.StockListing('KRX-DELISTING')\n",
    "df = pd.concat([df_kospi,df_kosdaq],axis=0)\n",
    "\n",
    "#  Sector에서 기타금융업, Industry에서 지주가 들어가는 회사. 중국회사.\n",
    "df_fin = df[df.Sector=='기타 금융업'].loc[:,['Symbol','Name']]\n",
    "df_fin['Category'] = '금융'\n",
    "df_holding = df.loc[df['Industry'].str.contains('지주',na=False)].loc[:,['Symbol','Name']]\n",
    "df_holding['Category'] = '지주'\n",
    "df_china = df.loc[df['Symbol'].str.contains('^9', regex=True)].loc[:,['Symbol','Name']]\n",
    "df_china['Category'] = '중국'\n",
    "df_exclu = pd.concat([df_fin,df_holding,df_china],axis=0)\n",
    "df_exclu.rename(columns={'Symbol':'StockCode'},inplace=True)\n",
    "with open('Raw_Finance/listExclusive.pickle', 'wb') as handle:\n",
    "    pickle.dump(df_exclu, handle, protocol=pickle.HIGHEST_PROTOCOL)"
   ]
  },
  {
   "cell_type": "markdown",
   "id": "confidential-boost",
   "metadata": {},
   "source": [
    "# 가격자료 (OHLCV) 별도로 저장하기"
   ]
  },
  {
   "cell_type": "code",
   "execution_count": null,
   "id": "prostate-document",
   "metadata": {},
   "outputs": [],
   "source": [
    "listStock = case.change.columns\n",
    "dateStart = case.change.index[0]\n",
    "dateEnd = case.change.index[-1]\n",
    "priceData = {}\n",
    "for stockCode in listStock:\n",
    "    stockData = fdr.DataReader(stockCode,start=dateStart,end=dateEnd)\n",
    "    priceData[stockCode] = stockData\n",
    "    \n",
    "with open('Raw_Price/OHLCV_all.pickle', 'wb') as handle:\n",
    "    pickle.dump(priceData, handle, protocol=pickle.HIGHEST_PROTOCOL)"
   ]
  },
  {
   "cell_type": "code",
   "execution_count": null,
   "id": "foster-doctor",
   "metadata": {},
   "outputs": [],
   "source": [
    "# 거래량 거래대금 저장.\n",
    "\n",
    "listStock = case.change.columns\n",
    "dateStart = case.change.index[0]\n",
    "dateEnd = case.change.index[-1]\n",
    "tradingVolumeData = {}\n",
    "tradingCostData = {}\n",
    "for stockCode in listStock:\n",
    "    stockData = stock.get_market_ohlcv_by_date(dateStart, dateEnd, stockCode,adjusted=False)\n",
    "    \n",
    "    tradingVolumeData[stockCode] = stockData['거래량']\n",
    "    tradingCostData[stockCode] = stockData['거래대금']\n",
    "    time.sleep(1)\n",
    "\n",
    "with open('Raw_Price/tradingVolume_all.pickle', 'wb') as handle:\n",
    "    pickle.dump(tradingVolumeData, handle, protocol=pickle.HIGHEST_PROTOCOL)    \n",
    "with open('Raw_Price/tradingCost_all.pickle', 'wb') as handle:\n",
    "    pickle.dump(tradingCostData, handle, protocol=pickle.HIGHEST_PROTOCOL)"
   ]
  },
  {
   "cell_type": "markdown",
   "id": "sorted-evidence",
   "metadata": {},
   "source": [
    "# 네이버 증권 자료 다운받기"
   ]
  },
  {
   "cell_type": "code",
   "execution_count": null,
   "id": "peaceful-duration",
   "metadata": {},
   "outputs": [],
   "source": []
  },
  {
   "cell_type": "markdown",
   "id": "small-illustration",
   "metadata": {
    "ExecuteTime": {
     "end_time": "2021-09-07T06:28:18.871853Z",
     "start_time": "2021-09-07T06:28:18.856871Z"
    }
   },
   "source": [
    "# dart 자료와 네이버 증권 자료 병합하기"
   ]
  },
  {
   "cell_type": "code",
   "execution_count": null,
   "id": "coral-convergence",
   "metadata": {},
   "outputs": [],
   "source": [
    "# dart 자료에서 특정 index삭제하여 2021 분기 자료 삭제\n",
    "f=case.finance\n",
    "f.reset_index(drop=True,inplace=True)\n",
    "indexName = f[f['period']==202109].index\n",
    "f.drop(indexName,inplace=True)"
   ]
  },
  {
   "cell_type": "code",
   "execution_count": null,
   "id": "official-tribe",
   "metadata": {},
   "outputs": [],
   "source": [
    "# 분기 자료에 단위 맞춰서 더하고 저장하기\n",
    "with open('Raw_Finance/finance_naver_converted_202103.pickle', 'rb') as handle:\n",
    "    naver1 = pickle.load(handle)\n",
    "for col in naver1.columns[2:]:\n",
    "    naver1[col] = naver1[col]*100000000\n",
    "\n",
    "naver2 = case.finance_naver\n",
    "for col in naver2.columns[2:]:\n",
    "    naver2[col] = naver2[col]*100000000\n",
    "    \n",
    "finance = pd.concat([case.finance,naver1])\n",
    "finance = pd.concat([finance,naver2])\n",
    "finance.reset_index(drop=True,inplace=True)\n",
    "\n",
    "with open('Raw_Finance/finance_latest.pickle', 'wb') as handle:\n",
    "    pickle.dump(finance, handle, protocol=pickle.HIGHEST_PROTOCOL)"
   ]
  },
  {
   "cell_type": "markdown",
   "id": "wireless-cherry",
   "metadata": {},
   "source": [
    "# finance에 시총, 성과 저장하기"
   ]
  },
  {
   "cell_type": "code",
   "execution_count": null,
   "id": "periodic-korea",
   "metadata": {},
   "outputs": [],
   "source": [
    "def periodToDateBuy(period):\n",
    "    year = str(period)[:4]\n",
    "    month = str(period)[4:]\n",
    "    yearBuy = str(int(year)+1) if month == '12' else year\n",
    "    monthBuy = '4' if month == '12' else str(int(month)+3)\n",
    "    dayBuy = '15' if month == '12' else 1\n",
    "    dateBuy = datetime(int(yearBuy),int(monthBuy),int(dayBuy))\n",
    "    return dateBuy\n",
    "\n",
    "df = case.finance\n",
    "\n",
    "#  기간 별 시가총액 정보를 dict형태로 저장\n",
    "dicCap = {}\n",
    "for period in list(df['period']):\n",
    "    try:\n",
    "        if period in dicCap.keys():\n",
    "            continue\n",
    "        \n",
    "        dateBuy = periodToDateBuy(period)\n",
    "\n",
    "        df_cap_kospi = stock.get_market_cap_by_ticker(dateBuy, market='KOSPI')\n",
    "        df_cap_kosdaq = stock.get_market_cap_by_ticker(dateBuy, market='KOSDAQ')\n",
    "        df_cap = pd.concat([df_cap_kospi, df_cap_kosdaq], axis=0)\n",
    "        df_cap = case.cap_add_preferred(df_cap)\n",
    "        dicCap[period] = df_cap\n",
    "    except:\n",
    "        print(period)\n",
    "\n",
    "#  finance에 넣을 수 있도록 시총 column에 들어갈 값을 리스트 형태로 저장\n",
    "listCap = [(dicCap[period].at[stock_code,'시가총액'] if stock_code in dicCap[period].index else None) if (period in dicCap.keys()) else None for stock_code, period in zip(df['stock_code'], df['period'])]\n",
    "df['cap'] = listCap\n",
    "import pickle\n",
    "with open('Raw_Finance/finance_input_quarterly_data_cap.pickle','wb') as handle:\n",
    "    pickle.dump(df, handle, protocol=pickle.HIGHEST_PROTOCOL)\n",
    "\n",
    "#  finance에 넣을 수 있도록 RAR column에 들어갈 값을 리스트 형태로 저장    \n",
    "listRAR = []\n",
    "for stock_code, period in zip(df['stock_code'], df['period']):\n",
    "    if period in dicCap.keys():\n",
    "        if stock_code in dicCap[period].index:\n",
    "            dateStart = periodToDateBuy(period)\n",
    "            dateEnd = periodToDateBuy(period)+relativedelta(months=3)\n",
    "            changeTemp = case.change.loc[dateStart:dateEnd,stock_code]\n",
    "            checkNan = changeTemp.isnull().sum()\n",
    "            if checkNan != 0:\n",
    "                listRAR.append(None)\n",
    "                continue\n",
    "#             print(type(changeTemp))\n",
    "#             print(changeTemp)\n",
    "#             print(checkNan)\n",
    "            \n",
    "            rarTemp = case.calculateRegressedReturn(changeTemp)\n",
    "            listRAR.append(rarTemp)\n",
    "        else:\n",
    "            listRAR.append(None)\n",
    "    else:\n",
    "        listRAR.append(None)\n",
    "\n",
    "# listRAR = [ ( case.calculateRegressedReturn(case.change.loc[periodToDateBuy(period):periodToDateBuy(period)+relativedelta(months=3),stock_code]) if stock_code in dicCap[period].index else None) if period in dicCap.keys() else None for stock_code, period in zip(df['stock_code'], df['period'])]\n",
    "\n",
    "df['rar'] = listRAR\n",
    "import pickle\n",
    "with open('Raw_Finance/finance_input_quarterly_data_cap_rar.pickle','wb') as handle:\n",
    "    pickle.dump(df, handle, protocol=pickle.HIGHEST_PROTOCOL)"
   ]
  },
  {
   "cell_type": "markdown",
   "id": "robust-breathing",
   "metadata": {},
   "source": [
    "# 3 차원 그래프, 히트맵으로 성과 확인하기"
   ]
  },
  {
   "cell_type": "code",
   "execution_count": null,
   "id": "encouraging-shanghai",
   "metadata": {},
   "outputs": [],
   "source": [
    "AxisSell = []\n",
    "AxisBuy = []\n",
    "AxisCAGR = []\n",
    "AxisMDD = []\n",
    "AxisMAR = []\n",
    "AxisSharpe = []\n",
    "AxisnoOfTrade = []\n",
    "case.daysContinuous = 5\n",
    "for buy in range(10,61,5):\n",
    "    for sell in range(10,61,5):\n",
    "        test1 = case.applyTraidingStrategy(strategy=\"MAKosdaqContinuous\",daysForMABuy=buy,daysForMASell=sell)\n",
    "        AxisSell.append(sell)\n",
    "        AxisBuy.append(buy)\n",
    "        AxisnoOfTrade.append(case.noOfTrade)\n",
    "        result = case.simple_analyzer(test1)\n",
    "        AxisCAGR.append(result.at['CAGR','BuyMA'])\n",
    "        AxisMDD.append(result.at['MDD','BuyMA']*(-1))\n",
    "        AxisSharpe.append(result.at['Sharpe_Ratio','BuyMA'])\n",
    "        AxisMAR.append(result.at['CAGR','BuyMA'] / result.at['MDD','BuyMA']*(-1))"
   ]
  },
  {
   "cell_type": "code",
   "execution_count": null,
   "id": "happy-respect",
   "metadata": {},
   "outputs": [],
   "source": [
    "%matplotlib notebook\n",
    "from mpl_toolkits.mplot3d import Axes3D\n",
    "import matplotlib.pyplot as plt\n",
    "\n",
    "fig = plt.figure(figsize=(6, 6))\n",
    "ax = fig.add_subplot(111, projection='3d')\n",
    "ax.scatter(AxisBuy, AxisSell, AxisMAR, marker='o', s=15, cmap='Greens')\n",
    "plt.xlabel('Buy')\n",
    "plt.ylabel('Sell')\n",
    "plt.show()"
   ]
  },
  {
   "cell_type": "code",
   "execution_count": null,
   "id": "spectacular-delivery",
   "metadata": {},
   "outputs": [],
   "source": [
    "loss = 0.5  # 잦은 거래로 인한 손실\n",
    "AxisCAGRadjusted = [a*((1-loss/100)**(b/8.8+4)) for a,b in zip(AxisCAGR, AxisnoOfTrade)]\n",
    "df = pd.DataFrame({'buy':AxisBuy,'sell':AxisSell,'CAGR':AxisCAGR,'CAGRadj':AxisCAGRadjusted,'MDD':AxisMDD,'sharpe_ratio':AxisSharpe,\n",
    "                   'MAR':AxisMAR,'noOfTrade':AxisnoOfTrade})"
   ]
  },
  {
   "cell_type": "code",
   "execution_count": null,
   "id": "ethical-shift",
   "metadata": {},
   "outputs": [],
   "source": [
    "df = pd.DataFrame({'buy':AxisBuy,'sell':AxisSell,'CAGR':AxisCAGR,'MDD':AxisMDD,'sharpe_ratio':AxisSharpe,\n",
    "                   'MAR':AxisMAR,'noOfTrade':AxisnoOfTrade})\n",
    "import seaborn as sns\n",
    "import matplotlib.pyplot as plt\n",
    "for i in df.columns[2:]:\n",
    "    plt.figure(figsize=(7,7))\n",
    "    plt.title(i)\n",
    "    if i != 'noOfTrade':\n",
    "        sns.heatmap(data = df.pivot_table(index=df.columns[0],columns=df.columns[1],values=i), annot=True,fmt = '.2f', linewidths=.2, cmap='Blues')\n",
    "    else:\n",
    "        sns.heatmap(data = df.pivot_table(index=df.columns[0],columns=df.columns[1],values=i), annot=True,fmt = '.0f', linewidths=.2, cmap='Blues')\n",
    "    plt.savefig(f'image/{i}.png')"
   ]
  },
  {
   "cell_type": "markdown",
   "id": "strong-routine",
   "metadata": {},
   "source": [
    "# 거래빈도 검토"
   ]
  },
  {
   "cell_type": "code",
   "execution_count": null,
   "id": "permanent-theater",
   "metadata": {},
   "outputs": [],
   "source": [
    "listCount = []\n",
    "count = 1\n",
    "listSignal = list(test['MASignal'])\n",
    "for i in range(len(listSignal)-1):\n",
    "    if listSignal[i] == listSignal[i+1]:\n",
    "        count += 1\n",
    "    else:\n",
    "        listCount.append(count)\n",
    "        count = 1\n",
    "        \n",
    "import matplotlib.pyplot as plt\n",
    "D = dict(Counter(listCount).most_common())\n",
    "plt.bar(list(D.keys()), list(D.values()),align='edge')\n",
    "\n",
    "plt.plot(listCount)"
   ]
  }
 ],
 "metadata": {
  "kernelspec": {
   "display_name": "py38_64",
   "language": "python",
   "name": "py38_64"
  },
  "language_info": {
   "codemirror_mode": {
    "name": "ipython",
    "version": 3
   },
   "file_extension": ".py",
   "mimetype": "text/x-python",
   "name": "python",
   "nbconvert_exporter": "python",
   "pygments_lexer": "ipython3",
   "version": "3.8.8"
  },
  "toc": {
   "base_numbering": 1,
   "nav_menu": {},
   "number_sections": true,
   "sideBar": true,
   "skip_h1_title": false,
   "title_cell": "Table of Contents",
   "title_sidebar": "Contents",
   "toc_cell": false,
   "toc_position": {},
   "toc_section_display": true,
   "toc_window_display": false
  },
  "varInspector": {
   "cols": {
    "lenName": 16,
    "lenType": 16,
    "lenVar": 40
   },
   "kernels_config": {
    "python": {
     "delete_cmd_postfix": "",
     "delete_cmd_prefix": "del ",
     "library": "var_list.py",
     "varRefreshCmd": "print(var_dic_list())"
    },
    "r": {
     "delete_cmd_postfix": ") ",
     "delete_cmd_prefix": "rm(",
     "library": "var_list.r",
     "varRefreshCmd": "cat(var_dic_list()) "
    }
   },
   "types_to_exclude": [
    "module",
    "function",
    "builtin_function_or_method",
    "instance",
    "_Feature"
   ],
   "window_display": false
  }
 },
 "nbformat": 4,
 "nbformat_minor": 5
}
